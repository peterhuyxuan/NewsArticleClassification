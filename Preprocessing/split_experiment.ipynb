{
 "cells": [
  {
   "cell_type": "code",
   "execution_count": 18,
   "metadata": {},
   "outputs": [],
   "source": [
    "from time import time\n",
    "import pandas as pd\n",
    "from sklearn.feature_extraction.text import TfidfVectorizer, CountVectorizer, TfidfTransformer\n",
    "from sklearn.model_selection import GridSearchCV\n",
    "from sklearn.feature_selection import SelectKBest, mutual_info_classif\n",
    "from sklearn.pipeline import Pipeline\n",
    "from sklearn.naive_bayes import MultinomialNB\n",
    "from sklearn.svm import LinearSVC, SVC\n",
    "from sklearn.metrics import classification_report\n",
    "import csv\n",
    "import numpy as np"
   ]
  },
  {
   "cell_type": "code",
   "execution_count": 3,
   "metadata": {},
   "outputs": [],
   "source": [
    "training_df = pd.read_csv('training.csv')\n",
    "test_df = pd.read_csv('test.csv')\n",
    "y_train = training_df['topic']\n",
    "y_test = test_df['topic']\n",
    "\n",
    "#filter model\n",
    "def make_rel(x):\n",
    "    if x != 'IRRELEVANT': return 'RELEVANT'\n",
    "    else: return x\n",
    "    \n",
    "training_rel_df = training_df.copy()\n",
    "test_rel_df = test_df.copy()\n",
    "training_rel_df['topic'] = training_rel_df['topic'].apply(make_rel)\n",
    "test_rel_df['topic'] = test_rel_df['topic'].apply(make_rel)\n",
    "\n",
    "training_cat_df = training_df.copy()\n",
    "test_cat_df = test_df.copy()\n",
    "\n",
    "training_cat_df = training_cat_df[training_cat_df.topic != 'IRRELEVANT']\n",
    "test_cat_df = test_cat_df[test_cat_df.topic != 'IRRELEVANT']\n",
    "\n"
   ]
  },
  {
   "cell_type": "code",
   "execution_count": 5,
   "metadata": {},
   "outputs": [
    {
     "name": "stdout",
     "output_type": "stream",
     "text": [
      "0.856\n"
     ]
    }
   ],
   "source": [
    "rel_pipe = Pipeline([\n",
    "    ('vect', CountVectorizer(ngram_range=(2,3), min_df=6)),\n",
    "    ('tfidf', TfidfTransformer(use_idf=True, sublinear_tf=True)),\n",
    "    #('sel', SelectKBest(mutual_info_classif, k=1000)),\n",
    "    ('clf', LinearSVC(C=0.5, random_state=1))\n",
    "])\n",
    "rel_pipe.fit(training_rel_df['article_words'], training_rel_df['topic'])\n",
    "print(rel_pipe.score(test_rel_df['article_words'], test_rel_df['topic']))"
   ]
  },
  {
   "cell_type": "code",
   "execution_count": 16,
   "metadata": {},
   "outputs": [
    {
     "name": "stdout",
     "output_type": "stream",
     "text": [
      "0.7692307692307693\n"
     ]
    }
   ],
   "source": [
    "cat_pipe = Pipeline([\n",
    "    ('vect', CountVectorizer(ngram_range=(1,3), min_df=7)),\n",
    "    ('tfidf', TfidfTransformer(use_idf=True, sublinear_tf=True)),\n",
    "    #('sel', SelectKBest(mututal_info_classif, k=100)),\n",
    "    ('clf', LinearSVC(dual=True, random_state=1))\n",
    "])\n",
    "\n",
    "cat_pipe.fit(training_cat_df['article_words'], training_cat_df['topic'])\n",
    "print(cat_pipe.score(test_cat_df['article_words'], test_cat_df['topic']))"
   ]
  },
  {
   "cell_type": "code",
   "execution_count": 21,
   "metadata": {},
   "outputs": [
    {
     "name": "stdout",
     "output_type": "stream",
     "text": [
      "0.2948717948717949\n"
     ]
    }
   ],
   "source": [
    "cat_pipe = Pipeline([\n",
    "    ('vect', CountVectorizer(ngram_range=(1,3), min_df=7)),\n",
    "    ('tfidf', TfidfTransformer(use_idf=True, sublinear_tf=True)),\n",
    "    #('sel', SelectKBest(mututal_info_classif, k=100)),\n",
    "    ('clf', SVC(kernel='rbf', random_state=1))\n",
    "])\n",
    "\n",
    "cat_pipe.fit(training_cat_df['article_words'], training_cat_df['topic'])\n",
    "print(cat_pipe.score(test_cat_df['article_words'], test_cat_df['topic']))"
   ]
  }
 ],
 "metadata": {
  "kernelspec": {
   "display_name": "Python 3",
   "language": "python",
   "name": "python3"
  },
  "language_info": {
   "codemirror_mode": {
    "name": "ipython",
    "version": 3
   },
   "file_extension": ".py",
   "mimetype": "text/x-python",
   "name": "python",
   "nbconvert_exporter": "python",
   "pygments_lexer": "ipython3",
   "version": "3.7.1"
  }
 },
 "nbformat": 4,
 "nbformat_minor": 2
}
