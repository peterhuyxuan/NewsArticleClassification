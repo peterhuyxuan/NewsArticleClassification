{
 "cells": [
  {
   "cell_type": "markdown",
   "metadata": {},
   "source": [
    "Transform training csv file to a datafram with columns comprised of article words and their TF-IDF values and topics"
   ]
  },
  {
   "cell_type": "code",
   "execution_count": 6,
   "metadata": {},
   "outputs": [
    {
     "name": "stdout",
     "output_type": "stream",
     "text": [
      "(9500, 35822)\n",
      "0        5\n",
      "1        7\n",
      "2       10\n",
      "3        5\n",
      "4        0\n",
      "        ..\n",
      "9495     3\n",
      "9496     0\n",
      "9497     5\n",
      "9498     0\n",
      "9499     5\n",
      "Name: topic, Length: 9500, dtype: int64\n"
     ]
    }
   ],
   "source": [
    "import pandas as pd\n",
    "from sklearn.feature_extraction.text import TfidfVectorizer\n",
    "import csv\n",
    "\n",
    "df=pd.read_csv('training.csv')\n",
    "\n",
    "cleanup_nums = {\"topic\": {\"IRRELEVANT\": 0, \"ARTS CULTURE ENTERTAINMENT\": 1, \"BIOGRAPHIES PERSONALITIES PEOPLE\": 2, \"DEFENCE\": 3, \"DOMESTIC MARKETS\": 4,\n",
    "                                  \"FOREX MARKETS\": 5, \"HEALTH\": 6, \"MONEY MARKETS\": 7, \"SCIENCE AND TECHNOLOGY\": 8, \"SHARE LISTINGS\": 9, \"SPORTS\":10 }}\n",
    "\n",
    "\n",
    "df.replace(cleanup_nums, inplace=True)\n",
    "\n",
    "vectorizer = TfidfVectorizer()\n",
    "\n",
    "#give each word a tf-idf value\n",
    "X_train_tfidf = vectorizer.fit_transform(df['article_words'])\n",
    "\n",
    "print(X_train_tfidf.shape)\n",
    "\n",
    "y_train = df['topic']\n",
    "\n",
    "print(y_train)\n",
    "\n",
    "# #get each article word as a feature\n",
    "# feature_names = vectorizer.get_feature_names()\n",
    "\n",
    "# dense = vectors.todense()\n",
    "\n",
    "# denselist = dense.tolist()\n",
    "\n",
    "# #turn the stuff into a datafram with the colunms as article words\n",
    "# df_tfidf = pd.DataFrame(denselist, columns=feature_names)\n",
    "\n",
    "# #append topic column\n",
    "\n",
    "# df_tfidf['topic']= df['topic']\n",
    "\n",
    "\n",
    "# #encode categorical\n",
    "# cleanup_nums = {\"topic\": {\"ARTS CULTURE ENTERTAINMENT\": 1, \"BIOGRAPHIES PERSONALITIES PEOPLE\": 2, \"DEFENCE\": 3, \"DOMESTIC MARKETS\": 4,\n",
    "#                                   \"FOREX MARKETS\": 5, \"HEALTH\": 6, \"MONEY MARKETS\": 7, \"SCIENCE AND TECHNOLOGY\": 8, \"SHARE LISTINGS\": 9, \"SPORTS\":10 }}\n",
    "\n",
    "\n",
    "# df_tfidf.replace(cleanup_nums, inplace=True)\n",
    "\n",
    "# #prepend article number column\n",
    "# art_no = df['article_number']\n",
    "\n",
    "# df_art_no = pd.DataFrame(art_no)\n",
    "\n",
    "# df_art_no\n",
    "\n",
    "# df_art_no[df_tfidf.columns]=df_tfidf\n",
    "\n",
    "\n",
    "# df_full = df_art_no\n",
    "\n",
    "\n",
    "# df_full.to_csv (r'training_TF-IDF', index = False, header=True)\n"
   ]
  },
  {
   "cell_type": "markdown",
   "metadata": {},
   "source": [
    "Run ML algos"
   ]
  },
  {
   "cell_type": "code",
   "execution_count": 8,
   "metadata": {},
   "outputs": [
    {
     "data": {
      "text/plain": [
       "RandomForestClassifier(bootstrap=True, class_weight=None, criterion='gini',\n",
       "                       max_depth=None, max_features='sqrt', max_leaf_nodes=None,\n",
       "                       min_impurity_decrease=0.0, min_impurity_split=None,\n",
       "                       min_samples_leaf=1, min_samples_split=2,\n",
       "                       min_weight_fraction_leaf=0.0, n_estimators=100,\n",
       "                       n_jobs=None, oob_score=False, random_state=None,\n",
       "                       verbose=0, warm_start=False)"
      ]
     },
     "execution_count": 8,
     "metadata": {},
     "output_type": "execute_result"
    }
   ],
   "source": [
    "#naive bayes rule\n",
    "\n",
    "from sklearn.naive_bayes import MultinomialNB\n",
    "clf = MultinomialNB().fit(X_train_tfidf, y_train)\n",
    "\n",
    "\n",
    "#random forst\n",
    "\n",
    "from sklearn.ensemble import RandomForestClassifier\n",
    "\n",
    "model = RandomForestClassifier(n_estimators=100, bootstrap = True, max_features = 'sqrt')\n",
    "\n",
    "model.fit(X_train_tfidf, y_train)"
   ]
  },
  {
   "cell_type": "markdown",
   "metadata": {},
   "source": [
    "Sorry this section below is just to test the code cos I cant actually print it with the whole data set as its too big (too many columns)"
   ]
  },
  {
   "cell_type": "code",
   "execution_count": null,
   "metadata": {},
   "outputs": [],
   "source": [
    "import pandas as pd\n",
    "from sklearn.feature_extraction.text import TfidfVectorizer\n",
    "import csv\n",
    "\n",
    "df=pd.read_csv('training.csv')\n",
    "\n",
    "df2 = df[(df['article_number'].isin([1,2]))]\n",
    "         \n",
    "df2\n",
    "\n",
    "vectorizer = TfidfVectorizer()\n",
    "\n",
    "vectors = vectorizer.fit_transform(df2['article_words'])\n",
    "\n",
    "feature_names = vectorizer.get_feature_names()\n",
    "\n",
    "dense = vectors.todense()\n",
    "\n",
    "denselist = dense.tolist()\n",
    "\n",
    "df3 = pd.DataFrame(denselist, columns=feature_names)\n",
    "\n",
    "df3['topic']= df2['topic']\n",
    "\n",
    "art_no = df2['article_number']\n",
    "\n",
    "df_art_no = pd.DataFrame(art_no)\n",
    "\n",
    "df_art_no\n",
    "\n",
    "df_art_no[df3.columns]=df3\n",
    "\n",
    "\n",
    "cleanup_nums = {\"topic\": {\"ARTS CULTURE ENTERTAINMENT\": 1, \"BIOGRAPHIES PERSONALITIES PEOPLE\": 2, \"DEFENCE\": 3, \"DOMESTIC MARKETS\": 4,\n",
    "                                  \"FOREX MARKETS\": 5, \"HEALTH\": 6, \"MONEY MARKETS\": 7, \"SCIENCE AND TECHNOLOGY\": 8, \"SHARE LISTINGS\": 9, \"SPORTS\":10 }}\n",
    "\n",
    "df_art_no.replace(cleanup_nums, inplace=True)\n",
    "\n",
    "df_full = df_art_no\n",
    "\n",
    "df_full"
   ]
  }
 ],
 "metadata": {
  "kernelspec": {
   "display_name": "Python 3",
   "language": "python",
   "name": "python3"
  },
  "language_info": {
   "codemirror_mode": {
    "name": "ipython",
    "version": 3
   },
   "file_extension": ".py",
   "mimetype": "text/x-python",
   "name": "python",
   "nbconvert_exporter": "python",
   "pygments_lexer": "ipython3",
   "version": "3.7.4"
  }
 },
 "nbformat": 4,
 "nbformat_minor": 2
}
