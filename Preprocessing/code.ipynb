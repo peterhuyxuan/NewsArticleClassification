{
 "cells": [
  {
   "cell_type": "markdown",
   "metadata": {},
   "source": [
    "Transforming training set words to features with TF-IDF values"
   ]
  },
  {
   "cell_type": "code",
   "execution_count": 1,
   "metadata": {},
   "outputs": [
    {
     "name": "stdout",
     "output_type": "stream",
     "text": [
      "(9500, 35822)\n",
      "0       FOREX MARKETS\n",
      "1       MONEY MARKETS\n",
      "2              SPORTS\n",
      "3       FOREX MARKETS\n",
      "4          IRRELEVANT\n",
      "            ...      \n",
      "9495          DEFENCE\n",
      "9496       IRRELEVANT\n",
      "9497    FOREX MARKETS\n",
      "9498       IRRELEVANT\n",
      "9499    FOREX MARKETS\n",
      "Name: topic, Length: 9500, dtype: object\n"
     ]
    }
   ],
   "source": [
    "import pandas as pd\n",
    "from sklearn.feature_extraction.text import TfidfVectorizer\n",
    "import csv\n",
    "import numpy as np\n",
    "\n",
    "df=pd.read_csv('training.csv')\n",
    "\n",
    "# cleanup_nums = {\"topic\": {\"IRRELEVANT\": 0, \"ARTS CULTURE ENTERTAINMENT\": 1, \"BIOGRAPHIES PERSONALITIES PEOPLE\": 2, \"DEFENCE\": 3, \"DOMESTIC MARKETS\": 4,\n",
    "#                                   \"FOREX MARKETS\": 5, \"HEALTH\": 6, \"MONEY MARKETS\": 7, \"SCIENCE AND TECHNOLOGY\": 8, \"SHARE LISTINGS\": 9, \"SPORTS\":10 }}\n",
    "\n",
    "\n",
    "# df.replace(cleanup_nums, inplace=True)\n",
    "\n",
    "vectorizer = TfidfVectorizer()\n",
    "\n",
    "#give each word a tf-idf value\n",
    "train_features = vectorizer.fit_transform(df['article_words'])\n",
    "\n",
    "print(train_features.shape)\n",
    "\n",
    "y_train = df['topic']\n",
    "\n",
    "print(y_train)\n"
   ]
  },
  {
   "cell_type": "markdown",
   "metadata": {},
   "source": [
    "Transforming test set words to features with TF-IDF values"
   ]
  },
  {
   "cell_type": "code",
   "execution_count": 2,
   "metadata": {},
   "outputs": [
    {
     "name": "stdout",
     "output_type": "stream",
     "text": [
      "(500, 35822)\n",
      "0          IRRELEVANT\n",
      "1          IRRELEVANT\n",
      "2       FOREX MARKETS\n",
      "3          IRRELEVANT\n",
      "4          IRRELEVANT\n",
      "            ...      \n",
      "495        IRRELEVANT\n",
      "496            SPORTS\n",
      "497     MONEY MARKETS\n",
      "498    SHARE LISTINGS\n",
      "499        IRRELEVANT\n",
      "Name: topic, Length: 500, dtype: object\n"
     ]
    }
   ],
   "source": [
    "df_test=pd.read_csv('test.csv')\n",
    "\n",
    "# cleanup_nums = {\"topic\": {\"IRRELEVANT\": 0, \"ARTS CULTURE ENTERTAINMENT\": 1, \"BIOGRAPHIES PERSONALITIES PEOPLE\": 2, \"DEFENCE\": 3, \"DOMESTIC MARKETS\": 4,\n",
    "#                                   \"FOREX MARKETS\": 5, \"HEALTH\": 6, \"MONEY MARKETS\": 7, \"SCIENCE AND TECHNOLOGY\": 8, \"SHARE LISTINGS\": 9, \"SPORTS\":10 }}\n",
    "\n",
    "\n",
    "# df_test.replace(cleanup_nums, inplace=True)\n",
    "\n",
    "#give each word a tf-idf value\n",
    "test_features = vectorizer.transform(df_test['article_words'])\n",
    "\n",
    "print(test_features.shape)\n",
    "\n",
    "y_test = df_test['topic']\n",
    "\n",
    "print(y_test)"
   ]
  },
  {
   "cell_type": "markdown",
   "metadata": {},
   "source": [
    "Run ML algos\n",
    "\n",
    "Naive Bayes Rule"
   ]
  },
  {
   "cell_type": "code",
   "execution_count": 3,
   "metadata": {},
   "outputs": [
    {
     "data": {
      "text/plain": [
       "0.68"
      ]
     },
     "execution_count": 3,
     "metadata": {},
     "output_type": "execute_result"
    }
   ],
   "source": [
    "#naive bayes rule\n",
    "\n",
    "from sklearn.naive_bayes import MultinomialNB\n",
    "NBclf = MultinomialNB()\n",
    "\n",
    "NBclf.fit(train_features, y_train)\n",
    "\n",
    "#gets the NB topic predicitions of the test data\n",
    "NBpredictions = NBclf.predict(test_features)\n",
    "\n",
    "np.mean(NBpredictions == y_test)\n",
    "\n",
    "#tuning\n",
    "\n",
    "# from sklearn.model_selection import GridSearchCV\n",
    "# gs_clf = GridSearchCV(NBclf, parameters, n_jobs=-1)\n",
    "# gs_clf = gs_clf.fit(twenty_train.data, twenty_train.target)\n",
    "\n"
   ]
  },
  {
   "cell_type": "markdown",
   "metadata": {},
   "source": [
    "Random Forest"
   ]
  },
  {
   "cell_type": "code",
   "execution_count": 4,
   "metadata": {},
   "outputs": [
    {
     "name": "stdout",
     "output_type": "stream",
     "text": [
      "['IRRELEVANT' 'IRRELEVANT' 'MONEY MARKETS' 'IRRELEVANT' 'IRRELEVANT'\n",
      " 'MONEY MARKETS' 'IRRELEVANT' 'SPORTS' 'MONEY MARKETS' 'IRRELEVANT'\n",
      " 'IRRELEVANT' 'IRRELEVANT' 'SPORTS' 'SPORTS' 'IRRELEVANT' 'MONEY MARKETS'\n",
      " 'IRRELEVANT' 'IRRELEVANT' 'IRRELEVANT' 'SPORTS' 'IRRELEVANT' 'IRRELEVANT'\n",
      " 'IRRELEVANT' 'IRRELEVANT' 'FOREX MARKETS' 'IRRELEVANT' 'IRRELEVANT'\n",
      " 'IRRELEVANT' 'MONEY MARKETS' 'MONEY MARKETS' 'MONEY MARKETS' 'IRRELEVANT'\n",
      " 'IRRELEVANT' 'MONEY MARKETS' 'IRRELEVANT' 'SPORTS' 'IRRELEVANT'\n",
      " 'IRRELEVANT' 'MONEY MARKETS' 'IRRELEVANT' 'SPORTS' 'IRRELEVANT'\n",
      " 'IRRELEVANT' 'IRRELEVANT' 'IRRELEVANT' 'IRRELEVANT' 'MONEY MARKETS'\n",
      " 'FOREX MARKETS' 'IRRELEVANT' 'FOREX MARKETS' 'MONEY MARKETS' 'IRRELEVANT'\n",
      " 'MONEY MARKETS' 'IRRELEVANT' 'MONEY MARKETS' 'IRRELEVANT' 'IRRELEVANT'\n",
      " 'IRRELEVANT' 'DEFENCE' 'MONEY MARKETS' 'IRRELEVANT' 'IRRELEVANT'\n",
      " 'IRRELEVANT' 'IRRELEVANT' 'FOREX MARKETS' 'IRRELEVANT' 'IRRELEVANT'\n",
      " 'SPORTS' 'SPORTS' 'MONEY MARKETS' 'IRRELEVANT' 'IRRELEVANT' 'SPORTS'\n",
      " 'SPORTS' 'IRRELEVANT' 'DEFENCE' 'IRRELEVANT' 'IRRELEVANT' 'IRRELEVANT'\n",
      " 'SPORTS' 'IRRELEVANT' 'SPORTS' 'MONEY MARKETS' 'MONEY MARKETS'\n",
      " 'IRRELEVANT' 'MONEY MARKETS' 'MONEY MARKETS' 'FOREX MARKETS' 'IRRELEVANT'\n",
      " 'IRRELEVANT' 'IRRELEVANT' 'IRRELEVANT' 'IRRELEVANT' 'IRRELEVANT'\n",
      " 'IRRELEVANT' 'SPORTS' 'SPORTS' 'IRRELEVANT' 'IRRELEVANT' 'IRRELEVANT'\n",
      " 'IRRELEVANT' 'MONEY MARKETS' 'IRRELEVANT' 'IRRELEVANT' 'IRRELEVANT'\n",
      " 'IRRELEVANT' 'IRRELEVANT' 'SPORTS' 'IRRELEVANT' 'SPORTS' 'IRRELEVANT'\n",
      " 'IRRELEVANT' 'IRRELEVANT' 'IRRELEVANT' 'IRRELEVANT' 'IRRELEVANT'\n",
      " 'IRRELEVANT' 'MONEY MARKETS' 'IRRELEVANT' 'SPORTS' 'IRRELEVANT'\n",
      " 'IRRELEVANT' 'IRRELEVANT' 'IRRELEVANT' 'MONEY MARKETS' 'IRRELEVANT'\n",
      " 'MONEY MARKETS' 'IRRELEVANT' 'IRRELEVANT' 'SPORTS' 'IRRELEVANT'\n",
      " 'IRRELEVANT' 'IRRELEVANT' 'MONEY MARKETS' 'IRRELEVANT' 'IRRELEVANT'\n",
      " 'IRRELEVANT' 'MONEY MARKETS' 'IRRELEVANT' 'IRRELEVANT' 'MONEY MARKETS'\n",
      " 'IRRELEVANT' 'IRRELEVANT' 'IRRELEVANT' 'IRRELEVANT' 'IRRELEVANT'\n",
      " 'IRRELEVANT' 'IRRELEVANT' 'IRRELEVANT' 'MONEY MARKETS' 'IRRELEVANT'\n",
      " 'IRRELEVANT' 'SPORTS' 'IRRELEVANT' 'IRRELEVANT' 'SPORTS' 'SPORTS'\n",
      " 'IRRELEVANT' 'FOREX MARKETS' 'IRRELEVANT' 'IRRELEVANT' 'SPORTS' 'SPORTS'\n",
      " 'IRRELEVANT' 'IRRELEVANT' 'IRRELEVANT' 'IRRELEVANT' 'IRRELEVANT'\n",
      " 'IRRELEVANT' 'IRRELEVANT' 'MONEY MARKETS' 'MONEY MARKETS' 'IRRELEVANT'\n",
      " 'IRRELEVANT' 'IRRELEVANT' 'MONEY MARKETS' 'MONEY MARKETS' 'MONEY MARKETS'\n",
      " 'IRRELEVANT' 'IRRELEVANT' 'IRRELEVANT' 'FOREX MARKETS' 'MONEY MARKETS'\n",
      " 'IRRELEVANT' 'IRRELEVANT' 'IRRELEVANT' 'IRRELEVANT' 'IRRELEVANT'\n",
      " 'IRRELEVANT' 'IRRELEVANT' 'MONEY MARKETS' 'IRRELEVANT' 'MONEY MARKETS'\n",
      " 'SPORTS' 'SPORTS' 'IRRELEVANT' 'IRRELEVANT' 'IRRELEVANT' 'IRRELEVANT'\n",
      " 'IRRELEVANT' 'IRRELEVANT' 'MONEY MARKETS' 'IRRELEVANT' 'MONEY MARKETS'\n",
      " 'IRRELEVANT' 'IRRELEVANT' 'MONEY MARKETS' 'MONEY MARKETS' 'IRRELEVANT'\n",
      " 'IRRELEVANT' 'IRRELEVANT' 'IRRELEVANT' 'IRRELEVANT' 'IRRELEVANT'\n",
      " 'IRRELEVANT' 'IRRELEVANT' 'IRRELEVANT' 'MONEY MARKETS' 'IRRELEVANT'\n",
      " 'IRRELEVANT' 'IRRELEVANT' 'IRRELEVANT' 'MONEY MARKETS' 'IRRELEVANT'\n",
      " 'MONEY MARKETS' 'IRRELEVANT' 'IRRELEVANT' 'IRRELEVANT' 'FOREX MARKETS'\n",
      " 'IRRELEVANT' 'IRRELEVANT' 'IRRELEVANT' 'MONEY MARKETS' 'IRRELEVANT'\n",
      " 'IRRELEVANT' 'IRRELEVANT' 'MONEY MARKETS' 'SPORTS' 'IRRELEVANT'\n",
      " 'MONEY MARKETS' 'IRRELEVANT' 'IRRELEVANT' 'MONEY MARKETS' 'IRRELEVANT'\n",
      " 'IRRELEVANT' 'IRRELEVANT' 'IRRELEVANT' 'MONEY MARKETS' 'IRRELEVANT'\n",
      " 'IRRELEVANT' 'IRRELEVANT' 'SPORTS' 'IRRELEVANT' 'SPORTS' 'MONEY MARKETS'\n",
      " 'IRRELEVANT' 'IRRELEVANT' 'IRRELEVANT' 'IRRELEVANT' 'SPORTS'\n",
      " 'MONEY MARKETS' 'IRRELEVANT' 'SPORTS' 'IRRELEVANT' 'MONEY MARKETS'\n",
      " 'MONEY MARKETS' 'IRRELEVANT' 'IRRELEVANT' 'MONEY MARKETS' 'IRRELEVANT'\n",
      " 'IRRELEVANT' 'MONEY MARKETS' 'IRRELEVANT' 'SPORTS' 'IRRELEVANT'\n",
      " 'MONEY MARKETS' 'IRRELEVANT' 'IRRELEVANT' 'IRRELEVANT' 'IRRELEVANT'\n",
      " 'IRRELEVANT' 'SPORTS' 'IRRELEVANT' 'IRRELEVANT' 'IRRELEVANT'\n",
      " 'FOREX MARKETS' 'SPORTS' 'IRRELEVANT' 'IRRELEVANT' 'IRRELEVANT' 'SPORTS'\n",
      " 'IRRELEVANT' 'IRRELEVANT' 'IRRELEVANT' 'IRRELEVANT' 'IRRELEVANT'\n",
      " 'IRRELEVANT' 'FOREX MARKETS' 'IRRELEVANT' 'SPORTS' 'SPORTS' 'IRRELEVANT'\n",
      " 'IRRELEVANT' 'IRRELEVANT' 'IRRELEVANT' 'IRRELEVANT' 'IRRELEVANT'\n",
      " 'MONEY MARKETS' 'SPORTS' 'IRRELEVANT' 'SPORTS' 'IRRELEVANT' 'SPORTS'\n",
      " 'IRRELEVANT' 'IRRELEVANT' 'IRRELEVANT' 'SPORTS' 'IRRELEVANT' 'IRRELEVANT'\n",
      " 'MONEY MARKETS' 'IRRELEVANT' 'MONEY MARKETS' 'FOREX MARKETS'\n",
      " 'MONEY MARKETS' 'IRRELEVANT' 'MONEY MARKETS' 'IRRELEVANT' 'MONEY MARKETS'\n",
      " 'IRRELEVANT' 'SPORTS' 'IRRELEVANT' 'SPORTS' 'IRRELEVANT' 'IRRELEVANT'\n",
      " 'MONEY MARKETS' 'SPORTS' 'MONEY MARKETS' 'IRRELEVANT' 'IRRELEVANT'\n",
      " 'MONEY MARKETS' 'IRRELEVANT' 'IRRELEVANT' 'IRRELEVANT' 'IRRELEVANT'\n",
      " 'MONEY MARKETS' 'IRRELEVANT' 'IRRELEVANT' 'SPORTS' 'SPORTS' 'IRRELEVANT'\n",
      " 'MONEY MARKETS' 'MONEY MARKETS' 'MONEY MARKETS' 'IRRELEVANT'\n",
      " 'MONEY MARKETS' 'IRRELEVANT' 'SPORTS' 'SPORTS' 'IRRELEVANT'\n",
      " 'MONEY MARKETS' 'IRRELEVANT' 'IRRELEVANT' 'MONEY MARKETS' 'IRRELEVANT'\n",
      " 'IRRELEVANT' 'MONEY MARKETS' 'IRRELEVANT' 'IRRELEVANT' 'FOREX MARKETS'\n",
      " 'IRRELEVANT' 'MONEY MARKETS' 'IRRELEVANT' 'IRRELEVANT' 'IRRELEVANT'\n",
      " 'FOREX MARKETS' 'IRRELEVANT' 'IRRELEVANT' 'IRRELEVANT' 'IRRELEVANT'\n",
      " 'IRRELEVANT' 'IRRELEVANT' 'IRRELEVANT' 'IRRELEVANT' 'IRRELEVANT'\n",
      " 'IRRELEVANT' 'SPORTS' 'IRRELEVANT' 'IRRELEVANT' 'FOREX MARKETS'\n",
      " 'IRRELEVANT' 'IRRELEVANT' 'IRRELEVANT' 'IRRELEVANT' 'MONEY MARKETS'\n",
      " 'IRRELEVANT' 'IRRELEVANT' 'IRRELEVANT' 'MONEY MARKETS' 'IRRELEVANT'\n",
      " 'IRRELEVANT' 'MONEY MARKETS' 'FOREX MARKETS' 'IRRELEVANT' 'IRRELEVANT'\n",
      " 'IRRELEVANT' 'IRRELEVANT' 'IRRELEVANT' 'IRRELEVANT' 'IRRELEVANT'\n",
      " 'IRRELEVANT' 'IRRELEVANT' 'IRRELEVANT' 'IRRELEVANT' 'IRRELEVANT'\n",
      " 'IRRELEVANT' 'MONEY MARKETS' 'IRRELEVANT' 'IRRELEVANT' 'SPORTS' 'SPORTS'\n",
      " 'IRRELEVANT' 'SPORTS' 'IRRELEVANT' 'MONEY MARKETS' 'IRRELEVANT'\n",
      " 'IRRELEVANT' 'IRRELEVANT' 'IRRELEVANT' 'HEALTH' 'IRRELEVANT' 'SPORTS'\n",
      " 'IRRELEVANT' 'IRRELEVANT' 'IRRELEVANT' 'IRRELEVANT' 'IRRELEVANT'\n",
      " 'IRRELEVANT' 'IRRELEVANT' 'MONEY MARKETS' 'IRRELEVANT' 'IRRELEVANT'\n",
      " 'SPORTS' 'IRRELEVANT' 'MONEY MARKETS' 'IRRELEVANT' 'IRRELEVANT'\n",
      " 'IRRELEVANT' 'IRRELEVANT' 'IRRELEVANT' 'IRRELEVANT' 'IRRELEVANT'\n",
      " 'ARTS CULTURE ENTERTAINMENT' 'IRRELEVANT' 'IRRELEVANT' 'IRRELEVANT'\n",
      " 'IRRELEVANT' 'IRRELEVANT' 'IRRELEVANT' 'IRRELEVANT' 'IRRELEVANT'\n",
      " 'MONEY MARKETS' 'IRRELEVANT' 'FOREX MARKETS' 'SPORTS' 'MONEY MARKETS'\n",
      " 'IRRELEVANT' 'MONEY MARKETS' 'IRRELEVANT' 'IRRELEVANT' 'IRRELEVANT'\n",
      " 'IRRELEVANT' 'IRRELEVANT' 'IRRELEVANT' 'IRRELEVANT' 'MONEY MARKETS'\n",
      " 'IRRELEVANT' 'MONEY MARKETS' 'IRRELEVANT' 'SPORTS' 'IRRELEVANT' 'SPORTS'\n",
      " 'HEALTH' 'IRRELEVANT' 'MONEY MARKETS' 'IRRELEVANT' 'FOREX MARKETS'\n",
      " 'IRRELEVANT' 'IRRELEVANT' 'IRRELEVANT' 'MONEY MARKETS' 'IRRELEVANT'\n",
      " 'SPORTS' 'IRRELEVANT' 'IRRELEVANT' 'MONEY MARKETS' 'IRRELEVANT' 'SPORTS'\n",
      " 'MONEY MARKETS' 'IRRELEVANT' 'IRRELEVANT']\n"
     ]
    },
    {
     "data": {
      "text/plain": [
       "0.734"
      ]
     },
     "execution_count": 4,
     "metadata": {},
     "output_type": "execute_result"
    }
   ],
   "source": [
    "from sklearn.ensemble import RandomForestClassifier\n",
    "\n",
    "RFclf = RandomForestClassifier(n_estimators=100, bootstrap = True, max_features = 'sqrt')\n",
    "\n",
    "\n",
    "RFclf.fit(train_features, y_train)\n",
    "\n",
    "# Use the forest's predict method on the test data\n",
    "RFpredictions = RFclf.predict(test_features)\n",
    "\n",
    "np.mean(RFpredictions == y_test)\n"
   ]
  },
  {
   "cell_type": "markdown",
   "metadata": {},
   "source": [
    "SVM"
   ]
  },
  {
   "cell_type": "code",
   "execution_count": 6,
   "metadata": {},
   "outputs": [
    {
     "data": {
      "text/plain": [
       "0.768"
      ]
     },
     "execution_count": 6,
     "metadata": {},
     "output_type": "execute_result"
    }
   ],
   "source": [
    "from sklearn.svm import SVC\n",
    "\n",
    "SVM_clf = SVC(kernel='linear')\n",
    "SVM_clf.fit(train_features, y_train)\n",
    "SVMpredictions = SVM_clf.predict(test_features)\n",
    "\n",
    "np.mean(SVMpredictions == y_test)\n"
   ]
  },
  {
   "cell_type": "markdown",
   "metadata": {},
   "source": [
    "Classification report"
   ]
  },
  {
   "cell_type": "code",
   "execution_count": 5,
   "metadata": {},
   "outputs": [
    {
     "name": "stdout",
     "output_type": "stream",
     "text": [
      "                                  precision    recall  f1-score   support\n",
      "\n",
      "                      IRRELEVANT       1.00      0.33      0.50         3\n",
      "      ARTS CULTURE ENTERTAINMENT       0.00      0.00      0.00        15\n",
      "BIOGRAPHIES PERSONALITIES PEOPLE       1.00      0.15      0.27        13\n",
      "                         DEFENCE       0.00      0.00      0.00         2\n",
      "                DOMESTIC MARKETS       0.47      0.17      0.25        48\n",
      "                   FOREX MARKETS       0.50      0.07      0.12        14\n",
      "                          HEALTH       0.76      0.95      0.85       266\n",
      "                   MONEY MARKETS       0.55      0.70      0.61        69\n",
      "          SCIENCE AND TECHNOLOGY       0.00      0.00      0.00         3\n",
      "                  SHARE LISTINGS       0.00      0.00      0.00         7\n",
      "                          SPORTS       0.93      0.90      0.92        60\n",
      "\n",
      "                        accuracy                           0.73       500\n",
      "                       macro avg       0.47      0.30      0.32       500\n",
      "                    weighted avg       0.68      0.73      0.68       500\n",
      "\n"
     ]
    },
    {
     "name": "stderr",
     "output_type": "stream",
     "text": [
      "C:\\Users\\jingj\\Anaconda3\\lib\\site-packages\\sklearn\\metrics\\classification.py:1437: UndefinedMetricWarning: Precision and F-score are ill-defined and being set to 0.0 in labels with no predicted samples.\n",
      "  'precision', 'predicted', average, warn_for)\n"
     ]
    }
   ],
   "source": [
    "from sklearn.metrics import classification_report\n",
    "\n",
    "target_names = [\"IRRELEVANT\", \"ARTS CULTURE ENTERTAINMENT\", \"BIOGRAPHIES PERSONALITIES PEOPLE\", \"DEFENCE\", \"DOMESTIC MARKETS\", \"FOREX MARKETS\", \"HEALTH\", \"MONEY MARKETS\", \"SCIENCE AND TECHNOLOGY\", \"SHARE LISTINGS\", \"SPORTS\"] \n",
    "\n",
    "print(classification_report(y_test, RFpredictions, target_names=target_names))"
   ]
  }
 ],
 "metadata": {
  "kernelspec": {
   "display_name": "Python 3",
   "language": "python",
   "name": "python3"
  },
  "language_info": {
   "codemirror_mode": {
    "name": "ipython",
    "version": 3
   },
   "file_extension": ".py",
   "mimetype": "text/x-python",
   "name": "python",
   "nbconvert_exporter": "python",
   "pygments_lexer": "ipython3",
   "version": "3.7.4"
  }
 },
 "nbformat": 4,
 "nbformat_minor": 2
}
