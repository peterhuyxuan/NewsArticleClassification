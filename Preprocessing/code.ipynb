{
 "cells": [
  {
   "cell_type": "markdown",
   "metadata": {},
   "source": [
    "Transforming training set words to features with TF-IDF values"
   ]
  },
  {
   "cell_type": "code",
   "execution_count": 9,
   "metadata": {},
   "outputs": [
    {
     "name": "stdout",
     "output_type": "stream",
     "text": [
      "(9500, 35822)\n",
      "0       FOREX MARKETS\n",
      "1       MONEY MARKETS\n",
      "2              SPORTS\n",
      "3       FOREX MARKETS\n",
      "4          IRRELEVANT\n",
      "            ...      \n",
      "9495          DEFENCE\n",
      "9496       IRRELEVANT\n",
      "9497    FOREX MARKETS\n",
      "9498       IRRELEVANT\n",
      "9499    FOREX MARKETS\n",
      "Name: topic, Length: 9500, dtype: object\n"
     ]
    }
   ],
   "source": [
    "import pandas as pd\n",
    "from sklearn.feature_extraction.text import TfidfVectorizer, CountVectorizer\n",
    "import csv\n",
    "import numpy as np\n",
    "from sklearn.model_selection import GridSearchCV\n",
    "\n",
    "df=pd.read_csv('training.csv')\n",
    "\n",
    "# cleanup_nums = {\"topic\": {\"IRRELEVANT\": 0, \"ARTS CULTURE ENTERTAINMENT\": 1, \"BIOGRAPHIES PERSONALITIES PEOPLE\": 2, \"DEFENCE\": 3, \"DOMESTIC MARKETS\": 4,\n",
    "#                                   \"FOREX MARKETS\": 5, \"HEALTH\": 6, \"MONEY MARKETS\": 7, \"SCIENCE AND TECHNOLOGY\": 8, \"SHARE LISTINGS\": 9, \"SPORTS\":10 }}\n",
    "\n",
    "\n",
    "# df.replace(cleanup_nums, inplace=True)\n",
    "\n",
    "vectorizer = TfidfVectorizer()\n",
    "\n",
    "#give each word a tf-idf value\n",
    "train_features = vectorizer.fit_transform(df['article_words'])\n",
    "\n",
    "print(train_features.shape)\n",
    "\n",
    "y_train = df['topic']\n",
    "\n",
    "print(y_train)\n"
   ]
  },
  {
   "cell_type": "markdown",
   "metadata": {},
   "source": [
    "Transforming test set words to features with TF-IDF values"
   ]
  },
  {
   "cell_type": "code",
   "execution_count": 2,
   "metadata": {},
   "outputs": [
    {
     "name": "stdout",
     "output_type": "stream",
     "text": [
      "(500, 35822)\n",
      "0          IRRELEVANT\n",
      "1          IRRELEVANT\n",
      "2       FOREX MARKETS\n",
      "3          IRRELEVANT\n",
      "4          IRRELEVANT\n",
      "            ...      \n",
      "495        IRRELEVANT\n",
      "496            SPORTS\n",
      "497     MONEY MARKETS\n",
      "498    SHARE LISTINGS\n",
      "499        IRRELEVANT\n",
      "Name: topic, Length: 500, dtype: object\n"
     ]
    }
   ],
   "source": [
    "df_test=pd.read_csv('test.csv')\n",
    "\n",
    "# cleanup_nums = {\"topic\": {\"IRRELEVANT\": 0, \"ARTS CULTURE ENTERTAINMENT\": 1, \"BIOGRAPHIES PERSONALITIES PEOPLE\": 2, \"DEFENCE\": 3, \"DOMESTIC MARKETS\": 4,\n",
    "#                                   \"FOREX MARKETS\": 5, \"HEALTH\": 6, \"MONEY MARKETS\": 7, \"SCIENCE AND TECHNOLOGY\": 8, \"SHARE LISTINGS\": 9, \"SPORTS\":10 }}\n",
    "\n",
    "\n",
    "# df_test.replace(cleanup_nums, inplace=True)\n",
    "\n",
    "#give each word a tf-idf value\n",
    "test_features = vectorizer.transform(df_test['article_words'])\n",
    "\n",
    "print(test_features.shape)\n",
    "\n",
    "y_test = df_test['topic']\n",
    "\n",
    "print(y_test)"
   ]
  },
  {
   "cell_type": "markdown",
   "metadata": {},
   "source": [
    "Run ML algos\n",
    "\n",
    "Naive Bayes Rule"
   ]
  },
  {
   "cell_type": "code",
   "execution_count": 8,
   "metadata": {},
   "outputs": [
    {
     "data": {
      "text/plain": [
       "0.68"
      ]
     },
     "execution_count": 8,
     "metadata": {},
     "output_type": "execute_result"
    }
   ],
   "source": [
    "#naive bayes rule\n",
    "\n",
    "from sklearn.naive_bayes import MultinomialNB\n",
    "NBclf = MultinomialNB()\n",
    "\n",
    "NBclf.fit(train_features, y_train)\n",
    "\n",
    "#gets the NB topic predicitions of the test data\n",
    "NBpredictions = NBclf.predict(test_features)\n",
    "\n",
    "np.mean(NBpredictions == y_test)\n",
    "\n",
    "#tuning\n",
    "\n",
    "# from sklearn.model_selection import GridSearchCV\n",
    "# parameters = {'vect__ngram_range': [(1, 1), (1, 2)], 'tfidf__use_idf': (True, False), 'clf__alpha': (1e-2, 1e-3)}\n",
    "# gs_clf = GridSearchCV(NBclf, parameters, n_jobs=-1)\n",
    "# gs_clf = gs_clf.fit(train_features, y_train)\n",
    "\n",
    "# gs_clf.best_score_\n",
    "\n",
    "\n"
   ]
  },
  {
   "cell_type": "markdown",
   "metadata": {},
   "source": [
    "Random Forest"
   ]
  },
  {
   "cell_type": "code",
   "execution_count": 11,
   "metadata": {},
   "outputs": [
    {
     "name": "stderr",
     "output_type": "stream",
     "text": [
      "C:\\Users\\jingj\\Anaconda3\\lib\\site-packages\\sklearn\\ensemble\\forest.py:245: FutureWarning: The default value of n_estimators will change from 10 in version 0.20 to 100 in 0.22.\n",
      "  \"10 in version 0.20 to 100 in 0.22.\", FutureWarning)\n"
     ]
    },
    {
     "name": "stdout",
     "output_type": "stream",
     "text": [
      "Fitting 3 folds for each of 720 candidates, totalling 2160 fits\n"
     ]
    },
    {
     "name": "stderr",
     "output_type": "stream",
     "text": [
      "[Parallel(n_jobs=-1)]: Using backend LokyBackend with 4 concurrent workers.\n",
      "[Parallel(n_jobs=-1)]: Done  33 tasks      | elapsed:  2.6min\n",
      "[Parallel(n_jobs=-1)]: Done 154 tasks      | elapsed:  5.3min\n",
      "[Parallel(n_jobs=-1)]: Done 357 tasks      | elapsed: 13.2min\n",
      "[Parallel(n_jobs=-1)]: Done 640 tasks      | elapsed: 74.5min\n",
      "[Parallel(n_jobs=-1)]: Done 1005 tasks      | elapsed: 107.6min\n",
      "[Parallel(n_jobs=-1)]: Done 1450 tasks      | elapsed: 134.2min\n",
      "[Parallel(n_jobs=-1)]: Done 1977 tasks      | elapsed: 181.3min\n",
      "[Parallel(n_jobs=-1)]: Done 2160 out of 2160 | elapsed: 224.5min finished\n"
     ]
    },
    {
     "data": {
      "text/plain": [
       "0.726"
      ]
     },
     "execution_count": 11,
     "metadata": {},
     "output_type": "execute_result"
    }
   ],
   "source": [
    "from sklearn.ensemble import RandomForestClassifier\n",
    "\n",
    "RFclf = RandomForestClassifier()\n",
    "\n",
    "param_grid = {\n",
    "    'bootstrap': [True],\n",
    "    'max_depth': [80, 90, 100, 110],\n",
    "    'max_features': [2, 3, 'auto'],\n",
    "    'min_samples_leaf': [1, 2, 3, 4, 5],\n",
    "    'min_samples_split': [8, 10, 12],\n",
    "    'n_estimators': [100, 200, 300, 1000]\n",
    "}\n",
    "\n",
    "grid_search = GridSearchCV(estimator = RFclf, param_grid = param_grid, \n",
    "                          cv = 3, n_jobs = -1, verbose = 2)\n",
    "\n",
    "\n",
    "RFclf.fit(train_features, y_train)\n",
    "\n",
    "grid_search.fit(train_features, y_train)\n",
    "grid_search.best_params_\n",
    "\n",
    "grid_predictions = grid_search.predict(test_features)\n",
    "\n",
    "\n",
    "np.mean(grid_predictions == y_test)\n",
    "\n",
    "# # Use the forest's predict method on the test data\n",
    "# RFpredictions = RFclf.predict(test_features)\n",
    "\n",
    "# np.mean(RFpredictions == y_test)\n",
    "\n",
    "\n"
   ]
  },
  {
   "cell_type": "markdown",
   "metadata": {},
   "source": [
    "SVM"
   ]
  },
  {
   "cell_type": "code",
   "execution_count": 3,
   "metadata": {},
   "outputs": [
    {
     "name": "stderr",
     "output_type": "stream",
     "text": [
      "C:\\Users\\jingj\\Anaconda3\\lib\\site-packages\\sklearn\\svm\\base.py:193: FutureWarning: The default value of gamma will change from 'auto' to 'scale' in version 0.22 to account better for unscaled features. Set gamma explicitly to 'auto' or 'scale' to avoid this warning.\n",
      "  \"avoid this warning.\", FutureWarning)\n",
      "C:\\Users\\jingj\\Anaconda3\\lib\\site-packages\\sklearn\\model_selection\\_split.py:1978: FutureWarning: The default value of cv will change from 3 to 5 in version 0.22. Specify it explicitly to silence this warning.\n",
      "  warnings.warn(CV_WARNING, FutureWarning)\n",
      "[Parallel(n_jobs=1)]: Using backend SequentialBackend with 1 concurrent workers.\n"
     ]
    },
    {
     "name": "stdout",
     "output_type": "stream",
     "text": [
      "Fitting 3 folds for each of 32 candidates, totalling 96 fits\n",
      "[CV] C=0.1, gamma=scale, kernel=linear ...............................\n",
      "[CV] ................ C=0.1, gamma=scale, kernel=linear, total=  52.1s\n",
      "[CV] C=0.1, gamma=scale, kernel=linear ...............................\n"
     ]
    },
    {
     "name": "stderr",
     "output_type": "stream",
     "text": [
      "[Parallel(n_jobs=1)]: Done   1 out of   1 | elapsed:   52.0s remaining:    0.0s\n"
     ]
    },
    {
     "name": "stdout",
     "output_type": "stream",
     "text": [
      "[CV] ................ C=0.1, gamma=scale, kernel=linear, total=  50.3s\n",
      "[CV] C=0.1, gamma=scale, kernel=linear ...............................\n",
      "[CV] ................ C=0.1, gamma=scale, kernel=linear, total=  56.1s\n",
      "[CV] C=0.1, gamma=scale, kernel=rbf ..................................\n",
      "[CV] ................... C=0.1, gamma=scale, kernel=rbf, total= 1.2min\n",
      "[CV] C=0.1, gamma=scale, kernel=rbf ..................................\n",
      "[CV] ................... C=0.1, gamma=scale, kernel=rbf, total= 1.4min\n",
      "[CV] C=0.1, gamma=scale, kernel=rbf ..................................\n",
      "[CV] ................... C=0.1, gamma=scale, kernel=rbf, total= 1.6min\n",
      "[CV] C=0.1, gamma=scale, kernel=poly .................................\n",
      "[CV] .................. C=0.1, gamma=scale, kernel=poly, total= 2.6min\n",
      "[CV] C=0.1, gamma=scale, kernel=poly .................................\n",
      "[CV] .................. C=0.1, gamma=scale, kernel=poly, total= 2.6min\n",
      "[CV] C=0.1, gamma=scale, kernel=poly .................................\n",
      "[CV] .................. C=0.1, gamma=scale, kernel=poly, total= 2.3min\n",
      "[CV] C=0.1, gamma=scale, kernel=sigmoid ..............................\n",
      "[CV] ............... C=0.1, gamma=scale, kernel=sigmoid, total=  46.5s\n",
      "[CV] C=0.1, gamma=scale, kernel=sigmoid ..............................\n",
      "[CV] ............... C=0.1, gamma=scale, kernel=sigmoid, total=  48.8s\n",
      "[CV] C=0.1, gamma=scale, kernel=sigmoid ..............................\n",
      "[CV] ............... C=0.1, gamma=scale, kernel=sigmoid, total=  49.7s\n",
      "[CV] C=0.1, gamma=auto, kernel=linear ................................\n",
      "[CV] ................. C=0.1, gamma=auto, kernel=linear, total=  55.2s\n",
      "[CV] C=0.1, gamma=auto, kernel=linear ................................\n",
      "[CV] ................. C=0.1, gamma=auto, kernel=linear, total= 1.0min\n",
      "[CV] C=0.1, gamma=auto, kernel=linear ................................\n",
      "[CV] ................. C=0.1, gamma=auto, kernel=linear, total=  58.0s\n",
      "[CV] C=0.1, gamma=auto, kernel=rbf ...................................\n",
      "[CV] .................... C=0.1, gamma=auto, kernel=rbf, total=  52.6s\n",
      "[CV] C=0.1, gamma=auto, kernel=rbf ...................................\n",
      "[CV] .................... C=0.1, gamma=auto, kernel=rbf, total=  50.8s\n",
      "[CV] C=0.1, gamma=auto, kernel=rbf ...................................\n",
      "[CV] .................... C=0.1, gamma=auto, kernel=rbf, total=  50.0s\n",
      "[CV] C=0.1, gamma=auto, kernel=poly ..................................\n",
      "[CV] ................... C=0.1, gamma=auto, kernel=poly, total=  48.3s\n",
      "[CV] C=0.1, gamma=auto, kernel=poly ..................................\n",
      "[CV] ................... C=0.1, gamma=auto, kernel=poly, total=  51.3s\n",
      "[CV] C=0.1, gamma=auto, kernel=poly ..................................\n",
      "[CV] ................... C=0.1, gamma=auto, kernel=poly, total=  47.7s\n",
      "[CV] C=0.1, gamma=auto, kernel=sigmoid ...............................\n",
      "[CV] ................ C=0.1, gamma=auto, kernel=sigmoid, total=  50.3s\n",
      "[CV] C=0.1, gamma=auto, kernel=sigmoid ...............................\n",
      "[CV] ................ C=0.1, gamma=auto, kernel=sigmoid, total=  47.3s\n",
      "[CV] C=0.1, gamma=auto, kernel=sigmoid ...............................\n",
      "[CV] ................ C=0.1, gamma=auto, kernel=sigmoid, total=  47.9s\n",
      "[CV] C=1, gamma=scale, kernel=linear .................................\n",
      "[CV] .................. C=1, gamma=scale, kernel=linear, total=  47.5s\n",
      "[CV] C=1, gamma=scale, kernel=linear .................................\n",
      "[CV] .................. C=1, gamma=scale, kernel=linear, total=  44.3s\n",
      "[CV] C=1, gamma=scale, kernel=linear .................................\n",
      "[CV] .................. C=1, gamma=scale, kernel=linear, total=  43.6s\n",
      "[CV] C=1, gamma=scale, kernel=rbf ....................................\n",
      "[CV] ..................... C=1, gamma=scale, kernel=rbf, total= 1.2min\n",
      "[CV] C=1, gamma=scale, kernel=rbf ....................................\n",
      "[CV] ..................... C=1, gamma=scale, kernel=rbf, total= 1.1min\n",
      "[CV] C=1, gamma=scale, kernel=rbf ....................................\n",
      "[CV] ..................... C=1, gamma=scale, kernel=rbf, total= 1.2min\n",
      "[CV] C=1, gamma=scale, kernel=poly ...................................\n",
      "[CV] .................... C=1, gamma=scale, kernel=poly, total= 2.5min\n",
      "[CV] C=1, gamma=scale, kernel=poly ...................................\n",
      "[CV] .................... C=1, gamma=scale, kernel=poly, total= 2.4min\n",
      "[CV] C=1, gamma=scale, kernel=poly ...................................\n",
      "[CV] .................... C=1, gamma=scale, kernel=poly, total= 2.4min\n",
      "[CV] C=1, gamma=scale, kernel=sigmoid ................................\n",
      "[CV] ................. C=1, gamma=scale, kernel=sigmoid, total=  40.8s\n",
      "[CV] C=1, gamma=scale, kernel=sigmoid ................................\n",
      "[CV] ................. C=1, gamma=scale, kernel=sigmoid, total=  39.4s\n",
      "[CV] C=1, gamma=scale, kernel=sigmoid ................................\n",
      "[CV] ................. C=1, gamma=scale, kernel=sigmoid, total=  39.5s\n",
      "[CV] C=1, gamma=auto, kernel=linear ..................................\n",
      "[CV] ................... C=1, gamma=auto, kernel=linear, total=  45.3s\n",
      "[CV] C=1, gamma=auto, kernel=linear ..................................\n",
      "[CV] ................... C=1, gamma=auto, kernel=linear, total=  45.5s\n",
      "[CV] C=1, gamma=auto, kernel=linear ..................................\n",
      "[CV] ................... C=1, gamma=auto, kernel=linear, total=  45.0s\n",
      "[CV] C=1, gamma=auto, kernel=rbf .....................................\n",
      "[CV] ...................... C=1, gamma=auto, kernel=rbf, total=  44.2s\n",
      "[CV] C=1, gamma=auto, kernel=rbf .....................................\n",
      "[CV] ...................... C=1, gamma=auto, kernel=rbf, total=  45.4s\n",
      "[CV] C=1, gamma=auto, kernel=rbf .....................................\n",
      "[CV] ...................... C=1, gamma=auto, kernel=rbf, total=  45.6s\n",
      "[CV] C=1, gamma=auto, kernel=poly ....................................\n",
      "[CV] ..................... C=1, gamma=auto, kernel=poly, total=  53.8s\n",
      "[CV] C=1, gamma=auto, kernel=poly ....................................\n",
      "[CV] ..................... C=1, gamma=auto, kernel=poly, total=  52.0s\n",
      "[CV] C=1, gamma=auto, kernel=poly ....................................\n",
      "[CV] ..................... C=1, gamma=auto, kernel=poly, total=  50.8s\n",
      "[CV] C=1, gamma=auto, kernel=sigmoid .................................\n",
      "[CV] .................. C=1, gamma=auto, kernel=sigmoid, total=  48.3s\n",
      "[CV] C=1, gamma=auto, kernel=sigmoid .................................\n",
      "[CV] .................. C=1, gamma=auto, kernel=sigmoid, total=  45.8s\n",
      "[CV] C=1, gamma=auto, kernel=sigmoid .................................\n",
      "[CV] .................. C=1, gamma=auto, kernel=sigmoid, total=  46.6s\n",
      "[CV] C=10, gamma=scale, kernel=linear ................................\n",
      "[CV] ................. C=10, gamma=scale, kernel=linear, total=  48.2s\n",
      "[CV] C=10, gamma=scale, kernel=linear ................................\n",
      "[CV] ................. C=10, gamma=scale, kernel=linear, total=  50.4s\n",
      "[CV] C=10, gamma=scale, kernel=linear ................................\n",
      "[CV] ................. C=10, gamma=scale, kernel=linear, total=  53.6s\n",
      "[CV] C=10, gamma=scale, kernel=rbf ...................................\n",
      "[CV] .................... C=10, gamma=scale, kernel=rbf, total= 1.7min\n",
      "[CV] C=10, gamma=scale, kernel=rbf ...................................\n",
      "[CV] .................... C=10, gamma=scale, kernel=rbf, total= 1.5min\n",
      "[CV] C=10, gamma=scale, kernel=rbf ...................................\n",
      "[CV] .................... C=10, gamma=scale, kernel=rbf, total= 1.4min\n",
      "[CV] C=10, gamma=scale, kernel=poly ..................................\n",
      "[CV] ................... C=10, gamma=scale, kernel=poly, total= 2.4min\n",
      "[CV] C=10, gamma=scale, kernel=poly ..................................\n",
      "[CV] ................... C=10, gamma=scale, kernel=poly, total= 2.3min\n",
      "[CV] C=10, gamma=scale, kernel=poly ..................................\n",
      "[CV] ................... C=10, gamma=scale, kernel=poly, total= 2.4min\n",
      "[CV] C=10, gamma=scale, kernel=sigmoid ...............................\n",
      "[CV] ................ C=10, gamma=scale, kernel=sigmoid, total=  35.4s\n",
      "[CV] C=10, gamma=scale, kernel=sigmoid ...............................\n",
      "[CV] ................ C=10, gamma=scale, kernel=sigmoid, total=  34.9s\n",
      "[CV] C=10, gamma=scale, kernel=sigmoid ...............................\n"
     ]
    },
    {
     "name": "stdout",
     "output_type": "stream",
     "text": [
      "[CV] ................ C=10, gamma=scale, kernel=sigmoid, total=  36.1s\n",
      "[CV] C=10, gamma=auto, kernel=linear .................................\n",
      "[CV] .................. C=10, gamma=auto, kernel=linear, total=  43.3s\n",
      "[CV] C=10, gamma=auto, kernel=linear .................................\n",
      "[CV] .................. C=10, gamma=auto, kernel=linear, total=  42.7s\n",
      "[CV] C=10, gamma=auto, kernel=linear .................................\n",
      "[CV] .................. C=10, gamma=auto, kernel=linear, total=  46.7s\n",
      "[CV] C=10, gamma=auto, kernel=rbf ....................................\n",
      "[CV] ..................... C=10, gamma=auto, kernel=rbf, total=  43.5s\n",
      "[CV] C=10, gamma=auto, kernel=rbf ....................................\n",
      "[CV] ..................... C=10, gamma=auto, kernel=rbf, total=  43.7s\n",
      "[CV] C=10, gamma=auto, kernel=rbf ....................................\n",
      "[CV] ..................... C=10, gamma=auto, kernel=rbf, total=  43.6s\n",
      "[CV] C=10, gamma=auto, kernel=poly ...................................\n",
      "[CV] .................... C=10, gamma=auto, kernel=poly, total=  43.0s\n",
      "[CV] C=10, gamma=auto, kernel=poly ...................................\n",
      "[CV] .................... C=10, gamma=auto, kernel=poly, total=  43.0s\n",
      "[CV] C=10, gamma=auto, kernel=poly ...................................\n",
      "[CV] .................... C=10, gamma=auto, kernel=poly, total=  42.7s\n",
      "[CV] C=10, gamma=auto, kernel=sigmoid ................................\n",
      "[CV] ................. C=10, gamma=auto, kernel=sigmoid, total=  44.0s\n",
      "[CV] C=10, gamma=auto, kernel=sigmoid ................................\n",
      "[CV] ................. C=10, gamma=auto, kernel=sigmoid, total=  44.0s\n",
      "[CV] C=10, gamma=auto, kernel=sigmoid ................................\n",
      "[CV] ................. C=10, gamma=auto, kernel=sigmoid, total=  44.6s\n",
      "[CV] C=100, gamma=scale, kernel=linear ...............................\n",
      "[CV] ................ C=100, gamma=scale, kernel=linear, total=  41.6s\n",
      "[CV] C=100, gamma=scale, kernel=linear ...............................\n",
      "[CV] ................ C=100, gamma=scale, kernel=linear, total=  41.9s\n",
      "[CV] C=100, gamma=scale, kernel=linear ...............................\n",
      "[CV] ................ C=100, gamma=scale, kernel=linear, total=  43.9s\n",
      "[CV] C=100, gamma=scale, kernel=rbf ..................................\n",
      "[CV] ................... C=100, gamma=scale, kernel=rbf, total= 1.4min\n",
      "[CV] C=100, gamma=scale, kernel=rbf ..................................\n",
      "[CV] ................... C=100, gamma=scale, kernel=rbf, total= 1.3min\n",
      "[CV] C=100, gamma=scale, kernel=rbf ..................................\n",
      "[CV] ................... C=100, gamma=scale, kernel=rbf, total= 1.3min\n",
      "[CV] C=100, gamma=scale, kernel=poly .................................\n",
      "[CV] .................. C=100, gamma=scale, kernel=poly, total= 2.3min\n",
      "[CV] C=100, gamma=scale, kernel=poly .................................\n",
      "[CV] .................. C=100, gamma=scale, kernel=poly, total= 2.3min\n",
      "[CV] C=100, gamma=scale, kernel=poly .................................\n",
      "[CV] .................. C=100, gamma=scale, kernel=poly, total= 2.3min\n",
      "[CV] C=100, gamma=scale, kernel=sigmoid ..............................\n",
      "[CV] ............... C=100, gamma=scale, kernel=sigmoid, total=  34.2s\n",
      "[CV] C=100, gamma=scale, kernel=sigmoid ..............................\n",
      "[CV] ............... C=100, gamma=scale, kernel=sigmoid, total=  33.5s\n",
      "[CV] C=100, gamma=scale, kernel=sigmoid ..............................\n",
      "[CV] ............... C=100, gamma=scale, kernel=sigmoid, total=  33.7s\n",
      "[CV] C=100, gamma=auto, kernel=linear ................................\n",
      "[CV] ................. C=100, gamma=auto, kernel=linear, total=  41.7s\n",
      "[CV] C=100, gamma=auto, kernel=linear ................................\n",
      "[CV] ................. C=100, gamma=auto, kernel=linear, total=  41.6s\n",
      "[CV] C=100, gamma=auto, kernel=linear ................................\n",
      "[CV] ................. C=100, gamma=auto, kernel=linear, total=  43.2s\n",
      "[CV] C=100, gamma=auto, kernel=rbf ...................................\n",
      "[CV] .................... C=100, gamma=auto, kernel=rbf, total=  49.2s\n",
      "[CV] C=100, gamma=auto, kernel=rbf ...................................\n",
      "[CV] .................... C=100, gamma=auto, kernel=rbf, total=  50.0s\n",
      "[CV] C=100, gamma=auto, kernel=rbf ...................................\n",
      "[CV] .................... C=100, gamma=auto, kernel=rbf, total=  49.6s\n",
      "[CV] C=100, gamma=auto, kernel=poly ..................................\n",
      "[CV] ................... C=100, gamma=auto, kernel=poly, total=  42.6s\n",
      "[CV] C=100, gamma=auto, kernel=poly ..................................\n",
      "[CV] ................... C=100, gamma=auto, kernel=poly, total=  43.5s\n",
      "[CV] C=100, gamma=auto, kernel=poly ..................................\n",
      "[CV] ................... C=100, gamma=auto, kernel=poly, total=  42.9s\n",
      "[CV] C=100, gamma=auto, kernel=sigmoid ...............................\n",
      "[CV] ................ C=100, gamma=auto, kernel=sigmoid, total=  49.0s\n",
      "[CV] C=100, gamma=auto, kernel=sigmoid ...............................\n",
      "[CV] ................ C=100, gamma=auto, kernel=sigmoid, total=  48.2s\n",
      "[CV] C=100, gamma=auto, kernel=sigmoid ...............................\n",
      "[CV] ................ C=100, gamma=auto, kernel=sigmoid, total=  49.5s\n"
     ]
    },
    {
     "name": "stderr",
     "output_type": "stream",
     "text": [
      "[Parallel(n_jobs=1)]: Done  96 out of  96 | elapsed: 100.2min finished\n"
     ]
    },
    {
     "data": {
      "text/plain": [
       "0.768"
      ]
     },
     "execution_count": 3,
     "metadata": {},
     "output_type": "execute_result"
    }
   ],
   "source": [
    "from sklearn.svm import SVC\n",
    "\n",
    "\n",
    "SVM_clf = SVC()\n",
    "SVM_clf.fit(train_features, y_train)\n",
    "# SVMpredictions = SVM_clf.predict(test_features)\n",
    "\n",
    "\n",
    "# print(\"hello\")\n",
    "# np.mean(SVMpredictions == y_test)\n",
    "\n",
    "param_grid = {'C': [0.1,1, 10, 100], 'gamma': ['scale', 'auto'] ,'kernel': ['linear', 'rbf', 'poly', 'sigmoid']}\n",
    "\n",
    "grid = GridSearchCV(SVM_clf,param_grid,refit=True,verbose=2)\n",
    "grid.fit(train_features, y_train)\n",
    "\n",
    "# print(grid.best_estimator_)\n",
    "\n",
    "\n",
    "grid_predictions = grid.predict(test_features)\n",
    "\n",
    "\n",
    "np.mean(grid_predictions == y_test)"
   ]
  },
  {
   "cell_type": "code",
   "execution_count": 5,
   "metadata": {},
   "outputs": [
    {
     "data": {
      "text/plain": [
       "0.756"
      ]
     },
     "execution_count": 5,
     "metadata": {},
     "output_type": "execute_result"
    }
   ],
   "source": [
    "from sklearn.linear_model import SGDClassifier\n",
    "\n",
    "SVM_clf2 = SGDClassifier(loss='hinge')\n",
    "SVM_clf2.fit(train_features, y_train)\n",
    "SVM2predictions = SVM_clf2.predict(test_features)\n",
    "\n",
    "np.mean(SVM2predictions == y_test)"
   ]
  },
  {
   "cell_type": "markdown",
   "metadata": {},
   "source": [
    "Classification report"
   ]
  },
  {
   "cell_type": "code",
   "execution_count": null,
   "metadata": {},
   "outputs": [],
   "source": [
    "from sklearn.metrics import classification_report\n",
    "\n",
    "target_names = [\"IRRELEVANT\", \"ARTS CULTURE ENTERTAINMENT\", \"BIOGRAPHIES PERSONALITIES PEOPLE\", \"DEFENCE\", \"DOMESTIC MARKETS\", \"FOREX MARKETS\", \"HEALTH\", \"MONEY MARKETS\", \"SCIENCE AND TECHNOLOGY\", \"SHARE LISTINGS\", \"SPORTS\"] \n",
    "\n",
    "print(classification_report(y_test, RFpredictions, target_names=target_names))"
   ]
  }
 ],
 "metadata": {
  "kernelspec": {
   "display_name": "Python 3",
   "language": "python",
   "name": "python3"
  },
  "language_info": {
   "codemirror_mode": {
    "name": "ipython",
    "version": 3
   },
   "file_extension": ".py",
   "mimetype": "text/x-python",
   "name": "python",
   "nbconvert_exporter": "python",
   "pygments_lexer": "ipython3",
   "version": "3.7.4"
  }
 },
 "nbformat": 4,
 "nbformat_minor": 2
}
