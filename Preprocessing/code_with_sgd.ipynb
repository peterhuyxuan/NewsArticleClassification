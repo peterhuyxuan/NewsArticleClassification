{
 "cells": [
  {
   "cell_type": "markdown",
   "metadata": {},
   "source": [
    "Transforming training set words to features with TF-IDF values"
   ]
  },
  {
   "cell_type": "code",
   "execution_count": 1,
   "metadata": {},
   "outputs": [
    {
     "name": "stdout",
     "output_type": "stream",
     "text": [
      "(9500, 35822)\n",
      "0       FOREX MARKETS\n",
      "1       MONEY MARKETS\n",
      "2              SPORTS\n",
      "3       FOREX MARKETS\n",
      "4          IRRELEVANT\n",
      "            ...      \n",
      "9495          DEFENCE\n",
      "9496       IRRELEVANT\n",
      "9497    FOREX MARKETS\n",
      "9498       IRRELEVANT\n",
      "9499    FOREX MARKETS\n",
      "Name: topic, Length: 9500, dtype: object\n"
     ]
    }
   ],
   "source": [
    "import pandas as pd\n",
    "from sklearn.feature_extraction.text import TfidfVectorizer\n",
    "import csv\n",
    "import numpy as np\n",
    "\n",
    "df=pd.read_csv('training.csv')\n",
    "\n",
    "# cleanup_nums = {\"topic\": {\"IRRELEVANT\": 0, \"ARTS CULTURE ENTERTAINMENT\": 1, \"BIOGRAPHIES PERSONALITIES PEOPLE\": 2, \"DEFENCE\": 3, \"DOMESTIC MARKETS\": 4,\n",
    "#                                   \"FOREX MARKETS\": 5, \"HEALTH\": 6, \"MONEY MARKETS\": 7, \"SCIENCE AND TECHNOLOGY\": 8, \"SHARE LISTINGS\": 9, \"SPORTS\":10 }}\n",
    "\n",
    "\n",
    "# df.replace(cleanup_nums, inplace=True)\n",
    "\n",
    "vectorizer = TfidfVectorizer()\n",
    "\n",
    "#give each word a tf-idf value\n",
    "train_features = vectorizer.fit_transform(df['article_words'])\n",
    "\n",
    "print(train_features.shape)\n",
    "\n",
    "y_train = df['topic']\n",
    "\n",
    "print(y_train)\n"
   ]
  },
  {
   "cell_type": "markdown",
   "metadata": {},
   "source": [
    "Transforming test set words to features with TF-IDF values"
   ]
  },
  {
   "cell_type": "code",
   "execution_count": 2,
   "metadata": {},
   "outputs": [
    {
     "name": "stdout",
     "output_type": "stream",
     "text": [
      "(500, 35822)\n",
      "0          IRRELEVANT\n",
      "1          IRRELEVANT\n",
      "2       FOREX MARKETS\n",
      "3          IRRELEVANT\n",
      "4          IRRELEVANT\n",
      "            ...      \n",
      "495        IRRELEVANT\n",
      "496            SPORTS\n",
      "497     MONEY MARKETS\n",
      "498    SHARE LISTINGS\n",
      "499        IRRELEVANT\n",
      "Name: topic, Length: 500, dtype: object\n"
     ]
    }
   ],
   "source": [
    "df_test=pd.read_csv('test.csv')\n",
    "\n",
    "# cleanup_nums = {\"topic\": {\"IRRELEVANT\": 0, \"ARTS CULTURE ENTERTAINMENT\": 1, \"BIOGRAPHIES PERSONALITIES PEOPLE\": 2, \"DEFENCE\": 3, \"DOMESTIC MARKETS\": 4,\n",
    "#                                   \"FOREX MARKETS\": 5, \"HEALTH\": 6, \"MONEY MARKETS\": 7, \"SCIENCE AND TECHNOLOGY\": 8, \"SHARE LISTINGS\": 9, \"SPORTS\":10 }}\n",
    "\n",
    "\n",
    "# df_test.replace(cleanup_nums, inplace=True)\n",
    "\n",
    "#give each word a tf-idf value\n",
    "test_features = vectorizer.transform(df_test['article_words'])\n",
    "\n",
    "print(test_features.shape)\n",
    "\n",
    "y_test = df_test['topic']\n",
    "\n",
    "print(y_test)"
   ]
  },
  {
   "cell_type": "markdown",
   "metadata": {},
   "source": [
    "Run ML algos\n",
    "\n",
    "Naive Bayes Rule"
   ]
  },
  {
   "cell_type": "code",
   "execution_count": 24,
   "metadata": {},
   "outputs": [
    {
     "data": {
      "text/plain": [
       "0.68"
      ]
     },
     "execution_count": 24,
     "metadata": {},
     "output_type": "execute_result"
    }
   ],
   "source": [
    "# #naive bayes rule\n",
    "\n",
    "# from sklearn.naive_bayes import MultinomialNB\n",
    "# NBclf = MultinomialNB()\n",
    "\n",
    "# NBclf.fit(train_features, y_train)\n",
    "\n",
    "# #gets the NB topic predicitions of the test data\n",
    "# NBpredictions = NBclf.predict(test_features)\n",
    "\n",
    "# np.mean(NBpredictions == y_test)\n",
    "\n",
    "# #tuning\n",
    "\n",
    "# # from sklearn.model_selection import GridSearchCV\n",
    "# # gs_clf = GridSearchCV(NBclf, parameters, n_jobs=-1)\n",
    "# # gs_clf = gs_clf.fit(twenty_train.data, twenty_train.target)\n",
    "\n"
   ]
  },
  {
   "cell_type": "markdown",
   "metadata": {},
   "source": [
    "Random Forest"
   ]
  },
  {
   "cell_type": "code",
   "execution_count": 5,
   "metadata": {},
   "outputs": [
    {
     "data": {
      "text/plain": [
       "0.738"
      ]
     },
     "execution_count": 5,
     "metadata": {},
     "output_type": "execute_result"
    }
   ],
   "source": [
    "# from sklearn.ensemble import RandomForestClassifier\n",
    "\n",
    "# RFclf = RandomForestClassifier(n_estimators=100, bootstrap = True, max_features = 'sqrt')\n",
    "\n",
    "\n",
    "# RFclf.fit(train_features, y_train)\n",
    "\n",
    "# # Use the forest's predict method on the test data\n",
    "# RFpredictions = RFclf.predict(test_features)\n",
    "\n",
    "# np.mean(RFpredictions == y_test)\n"
   ]
  },
  {
   "cell_type": "markdown",
   "metadata": {},
   "source": [
    "SVM"
   ]
  },
  {
   "cell_type": "code",
   "execution_count": 6,
   "metadata": {},
   "outputs": [
    {
     "name": "stdout",
     "output_type": "stream",
     "text": [
      "hello\n"
     ]
    },
    {
     "data": {
      "text/plain": [
       "0.768"
      ]
     },
     "execution_count": 6,
     "metadata": {},
     "output_type": "execute_result"
    }
   ],
   "source": [
    "# from sklearn.svm import SVC\n",
    "\n",
    "# SVM_clf = SVC(kernel='linear')\n",
    "# SVM_clf.fit(train_features, y_train)\n",
    "# SVMpredictions = SVM_clf.predict(test_features)\n",
    "\n",
    "\n",
    "# print(\"hello\")\n",
    "# np.mean(SVMpredictions == y_test)\n",
    "\n",
    "\n"
   ]
  },
  {
   "cell_type": "code",
   "execution_count": 143,
   "metadata": {},
   "outputs": [],
   "source": [
    "# import numpy as np\n",
    "# from sklearn.linear_model import LogisticRegression\n",
    "\n",
    "# LGR_clf = LogisticRegression(random_state=0)\n",
    "# LGR_clf.fit(train_features, y_train)\n",
    "# LGR_prediction = LGR_clf.predict(test_features)\n",
    "\n",
    "# np.mean(LGR_prediction == y_test)"
   ]
  },
  {
   "cell_type": "code",
   "execution_count": 17,
   "metadata": {},
   "outputs": [
    {
     "name": "stdout",
     "output_type": "stream",
     "text": [
      "['IRRELEVANT' 'IRRELEVANT' 'FOREX MARKETS' 'IRRELEVANT' 'IRRELEVANT'\n",
      " 'FOREX MARKETS' 'IRRELEVANT' 'SPORTS' 'IRRELEVANT' 'IRRELEVANT'\n",
      " 'IRRELEVANT' 'IRRELEVANT' 'SPORTS' 'SPORTS' 'IRRELEVANT' 'MONEY MARKETS'\n",
      " 'IRRELEVANT' 'SHARE LISTINGS' 'IRRELEVANT' 'SPORTS' 'IRRELEVANT'\n",
      " 'IRRELEVANT' 'IRRELEVANT' 'IRRELEVANT' 'FOREX MARKETS'\n",
      " 'ARTS CULTURE ENTERTAINMENT' 'IRRELEVANT' 'IRRELEVANT' 'FOREX MARKETS'\n",
      " 'FOREX MARKETS' 'MONEY MARKETS' 'IRRELEVANT' 'IRRELEVANT' 'MONEY MARKETS'\n",
      " 'IRRELEVANT' 'SPORTS' 'IRRELEVANT' 'IRRELEVANT' 'FOREX MARKETS'\n",
      " 'IRRELEVANT' 'SPORTS' 'IRRELEVANT' 'IRRELEVANT' 'IRRELEVANT' 'IRRELEVANT'\n",
      " 'IRRELEVANT' 'IRRELEVANT' 'MONEY MARKETS' 'IRRELEVANT' 'MONEY MARKETS'\n",
      " 'FOREX MARKETS' 'IRRELEVANT' 'IRRELEVANT' 'FOREX MARKETS' 'MONEY MARKETS'\n",
      " 'IRRELEVANT' 'IRRELEVANT' 'IRRELEVANT' 'DEFENCE' 'MONEY MARKETS'\n",
      " 'IRRELEVANT' 'IRRELEVANT' 'IRRELEVANT' 'IRRELEVANT' 'MONEY MARKETS'\n",
      " 'IRRELEVANT' 'IRRELEVANT' 'SPORTS' 'SPORTS' 'FOREX MARKETS'\n",
      " 'MONEY MARKETS' 'IRRELEVANT' 'SPORTS' 'SPORTS' 'IRRELEVANT' 'DEFENCE'\n",
      " 'FOREX MARKETS' 'IRRELEVANT' 'IRRELEVANT' 'SPORTS' 'IRRELEVANT' 'SPORTS'\n",
      " 'MONEY MARKETS' 'FOREX MARKETS' 'IRRELEVANT' 'MONEY MARKETS'\n",
      " 'MONEY MARKETS' 'FOREX MARKETS' 'IRRELEVANT' 'IRRELEVANT' 'IRRELEVANT'\n",
      " 'IRRELEVANT' 'IRRELEVANT' 'MONEY MARKETS' 'IRRELEVANT' 'SPORTS' 'SPORTS'\n",
      " 'IRRELEVANT' 'IRRELEVANT' 'IRRELEVANT' 'SHARE LISTINGS' 'MONEY MARKETS'\n",
      " 'IRRELEVANT' 'IRRELEVANT' 'IRRELEVANT' 'IRRELEVANT' 'DEFENCE' 'SPORTS'\n",
      " 'HEALTH' 'SPORTS' 'IRRELEVANT' 'IRRELEVANT' 'IRRELEVANT' 'IRRELEVANT'\n",
      " 'IRRELEVANT' 'DEFENCE' 'SCIENCE AND TECHNOLOGY' 'MONEY MARKETS'\n",
      " 'IRRELEVANT' 'SPORTS' 'HEALTH' 'IRRELEVANT' 'IRRELEVANT' 'IRRELEVANT'\n",
      " 'FOREX MARKETS' 'IRRELEVANT' 'FOREX MARKETS' 'IRRELEVANT' 'IRRELEVANT'\n",
      " 'SPORTS' 'IRRELEVANT' 'FOREX MARKETS' 'IRRELEVANT' 'FOREX MARKETS'\n",
      " 'IRRELEVANT' 'IRRELEVANT' 'IRRELEVANT' 'MONEY MARKETS' 'IRRELEVANT'\n",
      " 'IRRELEVANT' 'FOREX MARKETS' 'IRRELEVANT' 'IRRELEVANT' 'IRRELEVANT'\n",
      " 'IRRELEVANT' 'IRRELEVANT' 'MONEY MARKETS' 'IRRELEVANT' 'IRRELEVANT'\n",
      " 'MONEY MARKETS' 'IRRELEVANT' 'IRRELEVANT' 'SPORTS' 'IRRELEVANT'\n",
      " 'IRRELEVANT' 'SPORTS' 'SPORTS' 'IRRELEVANT' 'IRRELEVANT' 'IRRELEVANT'\n",
      " 'HEALTH' 'SPORTS' 'SPORTS' 'IRRELEVANT' 'FOREX MARKETS' 'IRRELEVANT'\n",
      " 'IRRELEVANT' 'IRRELEVANT' 'IRRELEVANT' 'DEFENCE' 'FOREX MARKETS'\n",
      " 'MONEY MARKETS' 'IRRELEVANT' 'IRRELEVANT' 'IRRELEVANT' 'MONEY MARKETS'\n",
      " 'FOREX MARKETS' 'FOREX MARKETS' 'IRRELEVANT' 'FOREX MARKETS' 'IRRELEVANT'\n",
      " 'FOREX MARKETS' 'FOREX MARKETS' 'IRRELEVANT' 'IRRELEVANT' 'IRRELEVANT'\n",
      " 'IRRELEVANT' 'IRRELEVANT' 'IRRELEVANT' 'IRRELEVANT' 'MONEY MARKETS'\n",
      " 'IRRELEVANT' 'FOREX MARKETS' 'SPORTS' 'SPORTS' 'IRRELEVANT' 'IRRELEVANT'\n",
      " 'IRRELEVANT' 'IRRELEVANT' 'IRRELEVANT' 'SPORTS' 'MONEY MARKETS'\n",
      " 'ARTS CULTURE ENTERTAINMENT' 'MONEY MARKETS' 'IRRELEVANT' 'IRRELEVANT'\n",
      " 'MONEY MARKETS' 'MONEY MARKETS' 'IRRELEVANT' 'IRRELEVANT' 'IRRELEVANT'\n",
      " 'IRRELEVANT' 'IRRELEVANT' 'IRRELEVANT' 'SHARE LISTINGS' 'IRRELEVANT'\n",
      " 'IRRELEVANT' 'FOREX MARKETS' 'IRRELEVANT' 'MONEY MARKETS' 'IRRELEVANT'\n",
      " 'IRRELEVANT' 'MONEY MARKETS' 'IRRELEVANT' 'MONEY MARKETS' 'IRRELEVANT'\n",
      " 'IRRELEVANT' 'IRRELEVANT' 'FOREX MARKETS' 'IRRELEVANT' 'IRRELEVANT'\n",
      " 'IRRELEVANT' 'MONEY MARKETS' 'IRRELEVANT' 'IRRELEVANT' 'SPORTS'\n",
      " 'MONEY MARKETS' 'SPORTS' 'IRRELEVANT' 'MONEY MARKETS' 'IRRELEVANT'\n",
      " 'IRRELEVANT' 'FOREX MARKETS' 'IRRELEVANT' 'IRRELEVANT' 'IRRELEVANT'\n",
      " 'IRRELEVANT' 'MONEY MARKETS' 'IRRELEVANT' 'IRRELEVANT' 'MONEY MARKETS'\n",
      " 'SPORTS' 'DOMESTIC MARKETS' 'SPORTS' 'MONEY MARKETS' 'IRRELEVANT'\n",
      " 'SPORTS' 'IRRELEVANT' 'IRRELEVANT' 'SPORTS' 'MONEY MARKETS' 'IRRELEVANT'\n",
      " 'SPORTS' 'IRRELEVANT' 'MONEY MARKETS' 'MONEY MARKETS' 'IRRELEVANT'\n",
      " 'IRRELEVANT' 'MONEY MARKETS' 'DEFENCE' 'IRRELEVANT' 'FOREX MARKETS'\n",
      " 'DEFENCE' 'SPORTS' 'IRRELEVANT' 'FOREX MARKETS' 'IRRELEVANT' 'IRRELEVANT'\n",
      " 'IRRELEVANT' 'IRRELEVANT' 'IRRELEVANT' 'SPORTS' 'IRRELEVANT' 'IRRELEVANT'\n",
      " 'IRRELEVANT' 'FOREX MARKETS' 'SPORTS' 'IRRELEVANT'\n",
      " 'ARTS CULTURE ENTERTAINMENT' 'IRRELEVANT' 'SPORTS' 'IRRELEVANT'\n",
      " 'IRRELEVANT' 'IRRELEVANT' 'IRRELEVANT' 'IRRELEVANT' 'IRRELEVANT'\n",
      " 'FOREX MARKETS' 'IRRELEVANT' 'SPORTS' 'SPORTS' 'IRRELEVANT' 'IRRELEVANT'\n",
      " 'IRRELEVANT' 'IRRELEVANT' 'IRRELEVANT' 'HEALTH' 'MONEY MARKETS' 'SPORTS'\n",
      " 'HEALTH' 'SPORTS' 'IRRELEVANT' 'SPORTS' 'IRRELEVANT' 'IRRELEVANT'\n",
      " 'IRRELEVANT' 'SPORTS' 'IRRELEVANT' 'IRRELEVANT' 'MONEY MARKETS'\n",
      " 'IRRELEVANT' 'MONEY MARKETS' 'MONEY MARKETS' 'MONEY MARKETS' 'IRRELEVANT'\n",
      " 'FOREX MARKETS' 'IRRELEVANT' 'MONEY MARKETS' 'IRRELEVANT'\n",
      " 'ARTS CULTURE ENTERTAINMENT' 'IRRELEVANT' 'SPORTS' 'HEALTH' 'IRRELEVANT'\n",
      " 'MONEY MARKETS' 'SPORTS' 'FOREX MARKETS' 'IRRELEVANT' 'IRRELEVANT'\n",
      " 'MONEY MARKETS' 'IRRELEVANT' 'DEFENCE' 'IRRELEVANT' 'IRRELEVANT'\n",
      " 'MONEY MARKETS' 'IRRELEVANT' 'IRRELEVANT' 'SPORTS' 'SPORTS' 'IRRELEVANT'\n",
      " 'IRRELEVANT' 'MONEY MARKETS' 'MONEY MARKETS' 'IRRELEVANT' 'MONEY MARKETS'\n",
      " 'IRRELEVANT' 'SPORTS' 'SPORTS' 'IRRELEVANT' 'IRRELEVANT' 'IRRELEVANT'\n",
      " 'SPORTS' 'MONEY MARKETS' 'IRRELEVANT' 'IRRELEVANT' 'MONEY MARKETS'\n",
      " 'IRRELEVANT' 'IRRELEVANT' 'FOREX MARKETS' 'IRRELEVANT' 'MONEY MARKETS'\n",
      " 'IRRELEVANT' 'HEALTH' 'IRRELEVANT' 'FOREX MARKETS' 'IRRELEVANT'\n",
      " 'IRRELEVANT' 'BIOGRAPHIES PERSONALITIES PEOPLE' 'IRRELEVANT' 'IRRELEVANT'\n",
      " 'IRRELEVANT' 'IRRELEVANT' 'MONEY MARKETS' 'IRRELEVANT' 'IRRELEVANT'\n",
      " 'SPORTS' 'IRRELEVANT' 'IRRELEVANT' 'MONEY MARKETS' 'IRRELEVANT'\n",
      " 'IRRELEVANT' 'IRRELEVANT' 'FOREX MARKETS' 'FOREX MARKETS' 'IRRELEVANT'\n",
      " 'IRRELEVANT' 'IRRELEVANT' 'MONEY MARKETS' 'IRRELEVANT' 'IRRELEVANT'\n",
      " 'FOREX MARKETS' 'FOREX MARKETS' 'IRRELEVANT' 'IRRELEVANT' 'IRRELEVANT'\n",
      " 'IRRELEVANT' 'IRRELEVANT' 'IRRELEVANT' 'IRRELEVANT' 'IRRELEVANT' 'HEALTH'\n",
      " 'IRRELEVANT' 'IRRELEVANT' 'IRRELEVANT' 'IRRELEVANT' 'MONEY MARKETS'\n",
      " 'IRRELEVANT' 'IRRELEVANT' 'SPORTS' 'SPORTS' 'IRRELEVANT' 'SPORTS'\n",
      " 'IRRELEVANT' 'MONEY MARKETS' 'IRRELEVANT' 'HEALTH' 'IRRELEVANT'\n",
      " 'IRRELEVANT' 'HEALTH' 'IRRELEVANT' 'SPORTS' 'IRRELEVANT'\n",
      " 'ARTS CULTURE ENTERTAINMENT' 'IRRELEVANT' 'IRRELEVANT' 'IRRELEVANT'\n",
      " 'IRRELEVANT' 'IRRELEVANT' 'MONEY MARKETS'\n",
      " 'BIOGRAPHIES PERSONALITIES PEOPLE' 'IRRELEVANT' 'SPORTS' 'IRRELEVANT'\n",
      " 'FOREX MARKETS' 'IRRELEVANT' 'IRRELEVANT' 'HEALTH' 'IRRELEVANT'\n",
      " 'IRRELEVANT' 'IRRELEVANT' 'IRRELEVANT' 'ARTS CULTURE ENTERTAINMENT'\n",
      " 'IRRELEVANT' 'IRRELEVANT' 'IRRELEVANT' 'IRRELEVANT' 'IRRELEVANT'\n",
      " 'IRRELEVANT' 'FOREX MARKETS' 'IRRELEVANT' 'MONEY MARKETS' 'IRRELEVANT'\n",
      " 'FOREX MARKETS' 'SPORTS' 'MONEY MARKETS' 'IRRELEVANT' 'MONEY MARKETS'\n",
      " 'IRRELEVANT' 'IRRELEVANT' 'IRRELEVANT' 'IRRELEVANT' 'IRRELEVANT'\n",
      " 'IRRELEVANT' 'IRRELEVANT' 'IRRELEVANT' 'IRRELEVANT' 'FOREX MARKETS'\n",
      " 'HEALTH' 'SPORTS' 'IRRELEVANT' 'SPORTS' 'SCIENCE AND TECHNOLOGY'\n",
      " 'IRRELEVANT' 'FOREX MARKETS' 'MONEY MARKETS' 'MONEY MARKETS' 'DEFENCE'\n",
      " 'BIOGRAPHIES PERSONALITIES PEOPLE' 'IRRELEVANT' 'MONEY MARKETS'\n",
      " 'IRRELEVANT' 'SPORTS' 'IRRELEVANT' 'DOMESTIC MARKETS' 'MONEY MARKETS'\n",
      " 'IRRELEVANT' 'SPORTS' 'MONEY MARKETS' 'IRRELEVANT' 'IRRELEVANT']\n"
     ]
    }
   ],
   "source": [
    "import numpy as np\n",
    "from sklearn import linear_model\n",
    "from sklearn.calibration import CalibratedClassifierCV\n",
    "\n",
    "SGD_clf = linear_model.SGDClassifier(tol=1e-2, shuffle=False, learning_rate='constant', eta0=1)\n",
    "SGD_clf.fit(train_features, y_train)\n",
    "SGD_prediction = SGD_clf.predict(test_features)\n",
    "\n",
    "np.mean(SGD_prediction == y_test)\n",
    "\n",
    "print(SGD_prediction)\n",
    "\n"
   ]
  },
  {
   "cell_type": "code",
   "execution_count": 18,
   "metadata": {},
   "outputs": [
    {
     "data": {
      "text/html": [
       "<div>\n",
       "<style scoped>\n",
       "    .dataframe tbody tr th:only-of-type {\n",
       "        vertical-align: middle;\n",
       "    }\n",
       "\n",
       "    .dataframe tbody tr th {\n",
       "        vertical-align: top;\n",
       "    }\n",
       "\n",
       "    .dataframe thead th {\n",
       "        text-align: right;\n",
       "    }\n",
       "</style>\n",
       "<table border=\"1\" class=\"dataframe\">\n",
       "  <thead>\n",
       "    <tr style=\"text-align: right;\">\n",
       "      <th></th>\n",
       "      <th>ARTS CULTURE ENTERTAINMENT</th>\n",
       "      <th>BIOGRAPHIES PERSONALITIES PEOPLE</th>\n",
       "      <th>DEFENCE</th>\n",
       "      <th>DOMESTIC MARKETS</th>\n",
       "      <th>FOREX MARKETS</th>\n",
       "      <th>HEALTH</th>\n",
       "      <th>IRRELEVANT</th>\n",
       "      <th>MONEY MARKETS</th>\n",
       "      <th>SCIENCE AND TECHNOLOGY</th>\n",
       "      <th>SHARE LISTINGS</th>\n",
       "      <th>SPORTS</th>\n",
       "    </tr>\n",
       "  </thead>\n",
       "  <tbody>\n",
       "    <tr>\n",
       "      <td>0</td>\n",
       "      <td>0.093620</td>\n",
       "      <td>0.033603</td>\n",
       "      <td>0.058913</td>\n",
       "      <td>0.173214</td>\n",
       "      <td>0.997620</td>\n",
       "      <td>0.018953</td>\n",
       "      <td>85.437281</td>\n",
       "      <td>2.248963</td>\n",
       "      <td>0.178011</td>\n",
       "      <td>10.670874</td>\n",
       "      <td>0.088947</td>\n",
       "    </tr>\n",
       "    <tr>\n",
       "      <td>1</td>\n",
       "      <td>0.647307</td>\n",
       "      <td>1.366583</td>\n",
       "      <td>0.059379</td>\n",
       "      <td>0.105653</td>\n",
       "      <td>0.663601</td>\n",
       "      <td>0.086432</td>\n",
       "      <td>88.719436</td>\n",
       "      <td>7.541555</td>\n",
       "      <td>0.158454</td>\n",
       "      <td>0.082616</td>\n",
       "      <td>0.568984</td>\n",
       "    </tr>\n",
       "    <tr>\n",
       "      <td>2</td>\n",
       "      <td>0.117404</td>\n",
       "      <td>0.002549</td>\n",
       "      <td>0.005292</td>\n",
       "      <td>0.004464</td>\n",
       "      <td>42.896320</td>\n",
       "      <td>0.003790</td>\n",
       "      <td>38.331456</td>\n",
       "      <td>18.622325</td>\n",
       "      <td>0.001191</td>\n",
       "      <td>0.008135</td>\n",
       "      <td>0.007075</td>\n",
       "    </tr>\n",
       "    <tr>\n",
       "      <td>3</td>\n",
       "      <td>0.074109</td>\n",
       "      <td>0.122362</td>\n",
       "      <td>0.075923</td>\n",
       "      <td>0.197367</td>\n",
       "      <td>1.523439</td>\n",
       "      <td>0.299692</td>\n",
       "      <td>94.893835</td>\n",
       "      <td>2.723278</td>\n",
       "      <td>0.058017</td>\n",
       "      <td>0.011842</td>\n",
       "      <td>0.020137</td>\n",
       "    </tr>\n",
       "    <tr>\n",
       "      <td>4</td>\n",
       "      <td>0.058172</td>\n",
       "      <td>0.035008</td>\n",
       "      <td>0.011551</td>\n",
       "      <td>0.012002</td>\n",
       "      <td>7.881767</td>\n",
       "      <td>0.009248</td>\n",
       "      <td>90.953767</td>\n",
       "      <td>0.980968</td>\n",
       "      <td>0.004448</td>\n",
       "      <td>0.047455</td>\n",
       "      <td>0.005613</td>\n",
       "    </tr>\n",
       "    <tr>\n",
       "      <td>...</td>\n",
       "      <td>...</td>\n",
       "      <td>...</td>\n",
       "      <td>...</td>\n",
       "      <td>...</td>\n",
       "      <td>...</td>\n",
       "      <td>...</td>\n",
       "      <td>...</td>\n",
       "      <td>...</td>\n",
       "      <td>...</td>\n",
       "      <td>...</td>\n",
       "      <td>...</td>\n",
       "    </tr>\n",
       "    <tr>\n",
       "      <td>495</td>\n",
       "      <td>1.043038</td>\n",
       "      <td>0.030434</td>\n",
       "      <td>0.262995</td>\n",
       "      <td>0.131535</td>\n",
       "      <td>1.789098</td>\n",
       "      <td>0.058982</td>\n",
       "      <td>94.009779</td>\n",
       "      <td>2.397594</td>\n",
       "      <td>0.027380</td>\n",
       "      <td>0.220013</td>\n",
       "      <td>0.029151</td>\n",
       "    </tr>\n",
       "    <tr>\n",
       "      <td>496</td>\n",
       "      <td>0.034476</td>\n",
       "      <td>0.271029</td>\n",
       "      <td>0.052984</td>\n",
       "      <td>0.073905</td>\n",
       "      <td>0.923206</td>\n",
       "      <td>0.027916</td>\n",
       "      <td>0.774257</td>\n",
       "      <td>2.114824</td>\n",
       "      <td>0.045494</td>\n",
       "      <td>0.020376</td>\n",
       "      <td>95.661534</td>\n",
       "    </tr>\n",
       "    <tr>\n",
       "      <td>497</td>\n",
       "      <td>0.036214</td>\n",
       "      <td>0.035079</td>\n",
       "      <td>0.002686</td>\n",
       "      <td>0.004856</td>\n",
       "      <td>4.369922</td>\n",
       "      <td>0.002857</td>\n",
       "      <td>3.048495</td>\n",
       "      <td>92.491412</td>\n",
       "      <td>0.002019</td>\n",
       "      <td>0.000244</td>\n",
       "      <td>0.006216</td>\n",
       "    </tr>\n",
       "    <tr>\n",
       "      <td>498</td>\n",
       "      <td>0.027794</td>\n",
       "      <td>0.173190</td>\n",
       "      <td>0.030107</td>\n",
       "      <td>0.100686</td>\n",
       "      <td>1.630139</td>\n",
       "      <td>0.032084</td>\n",
       "      <td>84.270462</td>\n",
       "      <td>3.474938</td>\n",
       "      <td>0.043867</td>\n",
       "      <td>10.139430</td>\n",
       "      <td>0.077304</td>\n",
       "    </tr>\n",
       "    <tr>\n",
       "      <td>499</td>\n",
       "      <td>0.067564</td>\n",
       "      <td>0.049693</td>\n",
       "      <td>0.085080</td>\n",
       "      <td>0.409802</td>\n",
       "      <td>1.847588</td>\n",
       "      <td>0.028060</td>\n",
       "      <td>94.145682</td>\n",
       "      <td>2.999952</td>\n",
       "      <td>0.021325</td>\n",
       "      <td>0.002329</td>\n",
       "      <td>0.342925</td>\n",
       "    </tr>\n",
       "  </tbody>\n",
       "</table>\n",
       "<p>500 rows × 11 columns</p>\n",
       "</div>"
      ],
      "text/plain": [
       "     ARTS CULTURE ENTERTAINMENT  BIOGRAPHIES PERSONALITIES PEOPLE   DEFENCE  \\\n",
       "0                      0.093620                          0.033603  0.058913   \n",
       "1                      0.647307                          1.366583  0.059379   \n",
       "2                      0.117404                          0.002549  0.005292   \n",
       "3                      0.074109                          0.122362  0.075923   \n",
       "4                      0.058172                          0.035008  0.011551   \n",
       "..                          ...                               ...       ...   \n",
       "495                    1.043038                          0.030434  0.262995   \n",
       "496                    0.034476                          0.271029  0.052984   \n",
       "497                    0.036214                          0.035079  0.002686   \n",
       "498                    0.027794                          0.173190  0.030107   \n",
       "499                    0.067564                          0.049693  0.085080   \n",
       "\n",
       "     DOMESTIC MARKETS  FOREX MARKETS    HEALTH  IRRELEVANT  MONEY MARKETS  \\\n",
       "0            0.173214       0.997620  0.018953   85.437281       2.248963   \n",
       "1            0.105653       0.663601  0.086432   88.719436       7.541555   \n",
       "2            0.004464      42.896320  0.003790   38.331456      18.622325   \n",
       "3            0.197367       1.523439  0.299692   94.893835       2.723278   \n",
       "4            0.012002       7.881767  0.009248   90.953767       0.980968   \n",
       "..                ...            ...       ...         ...            ...   \n",
       "495          0.131535       1.789098  0.058982   94.009779       2.397594   \n",
       "496          0.073905       0.923206  0.027916    0.774257       2.114824   \n",
       "497          0.004856       4.369922  0.002857    3.048495      92.491412   \n",
       "498          0.100686       1.630139  0.032084   84.270462       3.474938   \n",
       "499          0.409802       1.847588  0.028060   94.145682       2.999952   \n",
       "\n",
       "     SCIENCE AND TECHNOLOGY  SHARE LISTINGS     SPORTS  \n",
       "0                  0.178011       10.670874   0.088947  \n",
       "1                  0.158454        0.082616   0.568984  \n",
       "2                  0.001191        0.008135   0.007075  \n",
       "3                  0.058017        0.011842   0.020137  \n",
       "4                  0.004448        0.047455   0.005613  \n",
       "..                      ...             ...        ...  \n",
       "495                0.027380        0.220013   0.029151  \n",
       "496                0.045494        0.020376  95.661534  \n",
       "497                0.002019        0.000244   0.006216  \n",
       "498                0.043867       10.139430   0.077304  \n",
       "499                0.021325        0.002329   0.342925  \n",
       "\n",
       "[500 rows x 11 columns]"
      ]
     },
     "execution_count": 18,
     "metadata": {},
     "output_type": "execute_result"
    }
   ],
   "source": [
    "clf_sigmoid = CalibratedClassifierCV(SGD_clf, cv='prefit', method='sigmoid')\n",
    "clf_sigmoid.fit(train_features, y_train)\n",
    "\n",
    "target_names = [\"ARTS CULTURE ENTERTAINMENT\", \"BIOGRAPHIES PERSONALITIES PEOPLE\", \"DEFENCE\", \"DOMESTIC MARKETS\", \"FOREX MARKETS\", \"HEALTH\", \"IRRELEVANT\", \"MONEY MARKETS\", \"SCIENCE AND TECHNOLOGY\", \"SHARE LISTINGS\", \"SPORTS\"] \n",
    "\n",
    "\n",
    "pd.DataFrame(clf_sigmoid.predict_proba(test_features)*100, columns=target_names)"
   ]
  },
  {
   "cell_type": "markdown",
   "metadata": {},
   "source": [
    "Classification report"
   ]
  },
  {
   "cell_type": "code",
   "execution_count": 19,
   "metadata": {
    "scrolled": true
   },
   "outputs": [
    {
     "name": "stdout",
     "output_type": "stream",
     "text": [
      "                                  precision    recall  f1-score   support\n",
      "\n",
      "      ARTS CULTURE ENTERTAINMENT       0.33      0.67      0.44         3\n",
      "BIOGRAPHIES PERSONALITIES PEOPLE       1.00      0.20      0.33        15\n",
      "                         DEFENCE       0.89      0.62      0.73        13\n",
      "                DOMESTIC MARKETS       0.50      0.50      0.50         2\n",
      "                   FOREX MARKETS       0.58      0.54      0.56        48\n",
      "                          HEALTH       0.75      0.64      0.69        14\n",
      "                      IRRELEVANT       0.84      0.92      0.88       266\n",
      "                   MONEY MARKETS       0.63      0.61      0.62        69\n",
      "          SCIENCE AND TECHNOLOGY       0.00      0.00      0.00         3\n",
      "                  SHARE LISTINGS       0.67      0.29      0.40         7\n",
      "                          SPORTS       0.95      0.97      0.96        60\n",
      "\n",
      "                        accuracy                           0.79       500\n",
      "                       macro avg       0.65      0.54      0.56       500\n",
      "                    weighted avg       0.79      0.79      0.78       500\n",
      "\n"
     ]
    }
   ],
   "source": [
    "from sklearn.metrics import classification_report\n",
    "\n",
    "print(classification_report(y_test, SGD_prediction, target_names=target_names))"
   ]
  },
  {
   "cell_type": "markdown",
   "metadata": {},
   "source": [
    "--------------------BELOW IS NOT SUPER NEEDED DELETE LATER-------------------------"
   ]
  },
  {
   "cell_type": "markdown",
   "metadata": {},
   "source": [
    "SGD Classifier"
   ]
  },
  {
   "cell_type": "code",
   "execution_count": 4,
   "metadata": {
    "scrolled": true
   },
   "outputs": [
    {
     "data": {
      "text/html": [
       "<div>\n",
       "<style scoped>\n",
       "    .dataframe tbody tr th:only-of-type {\n",
       "        vertical-align: middle;\n",
       "    }\n",
       "\n",
       "    .dataframe tbody tr th {\n",
       "        vertical-align: top;\n",
       "    }\n",
       "\n",
       "    .dataframe thead th {\n",
       "        text-align: right;\n",
       "    }\n",
       "</style>\n",
       "<table border=\"1\" class=\"dataframe\">\n",
       "  <thead>\n",
       "    <tr style=\"text-align: right;\">\n",
       "      <th></th>\n",
       "      <th>article_number</th>\n",
       "      <th>article_words</th>\n",
       "      <th>topic</th>\n",
       "    </tr>\n",
       "  </thead>\n",
       "  <tbody>\n",
       "    <tr>\n",
       "      <td>0</td>\n",
       "      <td>1</td>\n",
       "      <td>open,absent,cent,cent,cent,stock,inflow,rate,k...</td>\n",
       "      <td>FOREX MARKETS</td>\n",
       "    </tr>\n",
       "    <tr>\n",
       "      <td>1</td>\n",
       "      <td>2</td>\n",
       "      <td>morn,stead,end,end,day,day,day,patch,patch,pat...</td>\n",
       "      <td>MONEY MARKETS</td>\n",
       "    </tr>\n",
       "    <tr>\n",
       "      <td>2</td>\n",
       "      <td>3</td>\n",
       "      <td>socc,socc,world,world,recent,law,fifa,fifa,fif...</td>\n",
       "      <td>SPORTS</td>\n",
       "    </tr>\n",
       "    <tr>\n",
       "      <td>3</td>\n",
       "      <td>4</td>\n",
       "      <td>open,forint,forint,forint,forint,cent,cent,ste...</td>\n",
       "      <td>FOREX MARKETS</td>\n",
       "    </tr>\n",
       "    <tr>\n",
       "      <td>4</td>\n",
       "      <td>5</td>\n",
       "      <td>morn,complet,weekend,minut,minut,minut,arrow,d...</td>\n",
       "      <td>IRRELEVANT</td>\n",
       "    </tr>\n",
       "  </tbody>\n",
       "</table>\n",
       "</div>"
      ],
      "text/plain": [
       "   article_number                                      article_words  \\\n",
       "0               1  open,absent,cent,cent,cent,stock,inflow,rate,k...   \n",
       "1               2  morn,stead,end,end,day,day,day,patch,patch,pat...   \n",
       "2               3  socc,socc,world,world,recent,law,fifa,fifa,fif...   \n",
       "3               4  open,forint,forint,forint,forint,cent,cent,ste...   \n",
       "4               5  morn,complet,weekend,minut,minut,minut,arrow,d...   \n",
       "\n",
       "           topic  \n",
       "0  FOREX MARKETS  \n",
       "1  MONEY MARKETS  \n",
       "2         SPORTS  \n",
       "3  FOREX MARKETS  \n",
       "4     IRRELEVANT  "
      ]
     },
     "execution_count": 4,
     "metadata": {},
     "output_type": "execute_result"
    }
   ],
   "source": [
    "df2 = pd.read_csv(\"training.csv\")\n",
    "df2.head()"
   ]
  },
  {
   "cell_type": "code",
   "execution_count": 5,
   "metadata": {},
   "outputs": [
    {
     "data": {
      "text/plain": [
       "array(['FOREX MARKETS', 'MONEY MARKETS', 'SPORTS', 'IRRELEVANT',\n",
       "       'SHARE LISTINGS', 'BIOGRAPHIES PERSONALITIES PEOPLE',\n",
       "       'DOMESTIC MARKETS', 'DEFENCE', 'SCIENCE AND TECHNOLOGY', 'HEALTH',\n",
       "       'ARTS CULTURE ENTERTAINMENT'], dtype=object)"
      ]
     },
     "execution_count": 5,
     "metadata": {},
     "output_type": "execute_result"
    }
   ],
   "source": [
    "df2['topic'].unique()"
   ]
  },
  {
   "cell_type": "code",
   "execution_count": 12,
   "metadata": {},
   "outputs": [
    {
     "name": "stdout",
     "output_type": "stream",
     "text": [
      "<class 'pandas.core.frame.DataFrame'>\n",
      "Int64Index: 9500 entries, 0 to 9499\n",
      "Data columns (total 3 columns):\n",
      " #   Column          Non-Null Count  Dtype \n",
      "---  ------          --------------  ----- \n",
      " 0   article_number  9500 non-null   int64 \n",
      " 1   article_words   9500 non-null   object\n",
      " 2   topic           9500 non-null   object\n",
      "dtypes: int64(1), object(2)\n",
      "memory usage: 296.9+ KB\n"
     ]
    }
   ],
   "source": []
  },
  {
   "cell_type": "code",
   "execution_count": 7,
   "metadata": {
    "scrolled": true
   },
   "outputs": [
    {
     "data": {
      "text/plain": [
       "<Figure size 720x432 with 0 Axes>"
      ]
     },
     "metadata": {},
     "output_type": "display_data"
    },
    {
     "data": {
      "image/png": "[encoded data removed]",
      "text/plain": [
       "<Figure size 432x288 with 1 Axes>"
      ]
     },
     "metadata": {
      "needs_background": "light"
     },
     "output_type": "display_data"
    }
   ],
   "source": [
    "import matplotlib.pyplot as plt\n",
    "fig = plt.figure(figsize=(10,6))\n",
    "df3 = df2[['topic','article_words']]\n",
    "df3.groupby('topic').count().plot.bar(ylim=0)\n",
    "plt.show()"
   ]
  },
  {
   "cell_type": "code",
   "execution_count": null,
   "metadata": {},
   "outputs": [],
   "source": []
  },
  {
   "cell_type": "code",
   "execution_count": 14,
   "metadata": {},
   "outputs": [
    {
     "name": "stdout",
     "output_type": "stream",
     "text": [
      "['ARTS CULTURE ENTERTAINMENT' 'BIOGRAPHIES PERSONALITIES PEOPLE' 'DEFENCE'\n",
      " 'DOMESTIC MARKETS' 'FOREX MARKETS' 'HEALTH' 'IRRELEVANT' 'MONEY MARKETS'\n",
      " 'SCIENCE AND TECHNOLOGY' 'SHARE LISTINGS' 'SPORTS']\n"
     ]
    }
   ],
   "source": [
    "# ADJUST LATER\n",
    "from sklearn.model_selection import train_test_split\n",
    "from sklearn.feature_extraction.text import TfidfTransformer\n",
    "from sklearn.feature_extraction.text import CountVectorizer\n",
    "from sklearn.preprocessing import LabelEncoder\n",
    "\n",
    "labels = df3['topic']\n",
    "text = df['article_words']\n",
    "\n",
    "# ADJUST LATER\n",
    "X_train, X_test, y_train, y_test = train_test_split(text, labels, random_state=0, test_size=0.3)\n",
    "\n",
    "count_vect = CountVectorizer()\n",
    "X_train_counts = count_vect.fit_transform(X_train)\n",
    "tf_transformer = TfidfTransformer().fit(X_train_counts)\n",
    "X_train_transformed = tf_transformer.transform(X_train_counts)\n",
    "\n",
    "X_test_counts = count_vect.transform(X_test)\n",
    "X_test_transformed = tf_transformer.transform(X_test_counts)\n",
    "\n",
    "labels = LabelEncoder()\n",
    "y_train_labels_fit = labels.fit(y_train)\n",
    "y_train_lables_trf = labels.transform(y_train)\n",
    "\n",
    "print(labels.classes_)"
   ]
  },
  {
   "cell_type": "code",
   "execution_count": 15,
   "metadata": {},
   "outputs": [
    {
     "name": "stdout",
     "output_type": "stream",
     "text": [
      "Average accuracy on test set=0.7712280701754386\n",
      "Predicted probabilities of demo input string are\n",
      "[[1.72381463e-03 1.68180265e-03 1.61864045e-03 9.25634263e-04\n",
      "  1.62330761e-02 3.73257049e-04 9.58818933e-01 1.66948877e-02\n",
      "  5.25338442e-04 1.51605858e-04 1.25300946e-03]]\n"
     ]
    }
   ],
   "source": [
    "from sklearn.svm import LinearSVC\n",
    "from sklearn.calibration import CalibratedClassifierCV\n",
    "\n",
    "linear_svc = linear_model.SGDClassifier(max_iter=1500, tol=1e-3)\n",
    "clf = linear_svc.fit(X_train_transformed,y_train_lables_trf)\n",
    "\n",
    "calibrated_svc = CalibratedClassifierCV(base_estimator=linear_svc,\n",
    "                                        cv=\"prefit\")\n",
    "\n",
    "calibrated_svc.fit(X_train_transformed,y_train_lables_trf)\n",
    "predicted = calibrated_svc.predict(X_test_transformed)\n",
    "\n",
    "# Need to update\n",
    "to_predict = [\"I have outdated information on my credit report that I have previously disputed that has yet to be removed this information is more then seven years old and does not meet credit reporting requirements\"]\n",
    "p_count = count_vect.transform(to_predict)\n",
    "p_tfidf = tf_transformer.transform(p_count)\n",
    "print('Average accuracy on test set={}'.format(np.mean(predicted == labels.transform(y_test))))\n",
    "print('Predicted probabilities of demo input string are')\n",
    "print(calibrated_svc.predict_proba(p_tfidf))"
   ]
  },
  {
   "cell_type": "code",
   "execution_count": 16,
   "metadata": {},
   "outputs": [
    {
     "data": {
      "text/html": [
       "<div>\n",
       "<style scoped>\n",
       "    .dataframe tbody tr th:only-of-type {\n",
       "        vertical-align: middle;\n",
       "    }\n",
       "\n",
       "    .dataframe tbody tr th {\n",
       "        vertical-align: top;\n",
       "    }\n",
       "\n",
       "    .dataframe thead th {\n",
       "        text-align: right;\n",
       "    }\n",
       "</style>\n",
       "<table border=\"1\" class=\"dataframe\">\n",
       "  <thead>\n",
       "    <tr style=\"text-align: right;\">\n",
       "      <th></th>\n",
       "      <th>ARTS CULTURE ENTERTAINMENT</th>\n",
       "      <th>BIOGRAPHIES PERSONALITIES PEOPLE</th>\n",
       "      <th>DEFENCE</th>\n",
       "      <th>DOMESTIC MARKETS</th>\n",
       "      <th>FOREX MARKETS</th>\n",
       "      <th>HEALTH</th>\n",
       "      <th>IRRELEVANT</th>\n",
       "      <th>MONEY MARKETS</th>\n",
       "      <th>SCIENCE AND TECHNOLOGY</th>\n",
       "      <th>SHARE LISTINGS</th>\n",
       "      <th>SPORTS</th>\n",
       "    </tr>\n",
       "  </thead>\n",
       "  <tbody>\n",
       "    <tr>\n",
       "      <th>0</th>\n",
       "      <td>0.172381</td>\n",
       "      <td>0.16818</td>\n",
       "      <td>0.161864</td>\n",
       "      <td>0.092563</td>\n",
       "      <td>1.623308</td>\n",
       "      <td>0.037326</td>\n",
       "      <td>95.881893</td>\n",
       "      <td>1.669489</td>\n",
       "      <td>0.052534</td>\n",
       "      <td>0.015161</td>\n",
       "      <td>0.125301</td>\n",
       "    </tr>\n",
       "  </tbody>\n",
       "</table>\n",
       "</div>"
      ],
      "text/plain": [
       "   ARTS CULTURE ENTERTAINMENT  BIOGRAPHIES PERSONALITIES PEOPLE   DEFENCE  \\\n",
       "0                    0.172381                           0.16818  0.161864   \n",
       "\n",
       "   DOMESTIC MARKETS  FOREX MARKETS    HEALTH  IRRELEVANT  MONEY MARKETS  \\\n",
       "0          0.092563       1.623308  0.037326   95.881893       1.669489   \n",
       "\n",
       "   SCIENCE AND TECHNOLOGY  SHARE LISTINGS    SPORTS  \n",
       "0                0.052534        0.015161  0.125301  "
      ]
     },
     "execution_count": 16,
     "metadata": {},
     "output_type": "execute_result"
    }
   ],
   "source": [
    "pd.DataFrame(calibrated_svc.predict_proba(p_tfidf)*100, columns=labels.classes_)"
   ]
  },
  {
   "cell_type": "code",
   "execution_count": 8,
   "metadata": {},
   "outputs": [
    {
     "name": "stdout",
     "output_type": "stream",
     "text": [
      "0          IRRELEVANT\n",
      "1          IRRELEVANT\n",
      "2       FOREX MARKETS\n",
      "3          IRRELEVANT\n",
      "4          IRRELEVANT\n",
      "            ...      \n",
      "495        IRRELEVANT\n",
      "496            SPORTS\n",
      "497     MONEY MARKETS\n",
      "498    SHARE LISTINGS\n",
      "499        IRRELEVANT\n",
      "Name: topic, Length: 500, dtype: object\n"
     ]
    }
   ],
   "source": [
    "print(y_test)"
   ]
  }
 ],
 "metadata": {
  "kernelspec": {
   "display_name": "Python 3",
   "language": "python",
   "name": "python3"
  },
  "language_info": {
   "codemirror_mode": {
    "name": "ipython",
    "version": 3
   },
   "file_extension": ".py",
   "mimetype": "text/x-python",
   "name": "python",
   "nbconvert_exporter": "python",
   "pygments_lexer": "ipython3",
   "version": "3.7.4"
  }
 },
 "nbformat": 4,
 "nbformat_minor": 2
}
