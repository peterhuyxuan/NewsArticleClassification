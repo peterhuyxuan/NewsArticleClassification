{
 "cells": [
  {
   "cell_type": "code",
   "execution_count": 39,
   "metadata": {},
   "outputs": [],
   "source": [
    "import pandas as pd\n",
    "import csv\n",
    "import numpy as np\n"
   ]
  },
  {
   "cell_type": "markdown",
   "metadata": {},
   "source": [
    "Explore data distribution"
   ]
  },
  {
   "cell_type": "code",
   "execution_count": 40,
   "metadata": {
    "scrolled": true
   },
   "outputs": [
    {
     "data": {
      "text/plain": [
       "<Figure size 720x432 with 0 Axes>"
      ]
     },
     "metadata": {},
     "output_type": "display_data"
    },
    {
     "data": {
      "image/png": "[encoded data removed]",
      "text/plain": [
       "<Figure size 432x288 with 1 Axes>"
      ]
     },
     "metadata": {
      "needs_background": "light"
     },
     "output_type": "display_data"
    }
   ],
   "source": [
    "import matplotlib.pyplot as plt\n",
    "\n",
    "df=pd.read_csv('training.csv')\n",
    "\n",
    "fig = plt.figure(figsize=(10,6))\n",
    "df_graph = df[['topic','article_number']]\n",
    "df_graph.groupby('topic').count().plot.bar(ylim=0)\n",
    "\n",
    "plt.show()"
   ]
  },
  {
   "cell_type": "markdown",
   "metadata": {},
   "source": [
    "Transforming training set words to features with TF-IDF values"
   ]
  },
  {
   "cell_type": "code",
   "execution_count": 41,
   "metadata": {},
   "outputs": [
    {
     "name": "stdout",
     "output_type": "stream",
     "text": [
      "(9500, 35822)\n"
     ]
    }
   ],
   "source": [
    "from sklearn.feature_extraction.text import TfidfVectorizer\n",
    "\n",
    "vectorizer = TfidfVectorizer()\n",
    "\n",
    "#give each word a tf-idf value\n",
    "train_features = vectorizer.fit_transform(df['article_words'])\n",
    "\n",
    "print(train_features.shape)\n",
    "\n",
    "y_train = df['topic']\n"
   ]
  },
  {
   "cell_type": "markdown",
   "metadata": {},
   "source": [
    "Transforming test set words to features with TF-IDF values"
   ]
  },
  {
   "cell_type": "code",
   "execution_count": 42,
   "metadata": {},
   "outputs": [
    {
     "name": "stdout",
     "output_type": "stream",
     "text": [
      "(500, 35822)\n"
     ]
    }
   ],
   "source": [
    "df_test=pd.read_csv('test.csv')\n",
    "\n",
    "#give each word a tf-idf value\n",
    "test_features = vectorizer.transform(df_test['article_words'])\n",
    "\n",
    "print(test_features.shape)\n",
    "\n",
    "y_test = df_test['topic']\n"
   ]
  },
  {
   "cell_type": "markdown",
   "metadata": {},
   "source": [
    "Run ML algos"
   ]
  },
  {
   "cell_type": "markdown",
   "metadata": {},
   "source": [
    "Logistic Regression"
   ]
  },
  {
   "cell_type": "code",
   "execution_count": 31,
   "metadata": {},
   "outputs": [
    {
     "name": "stderr",
     "output_type": "stream",
     "text": [
      "C:\\Users\\jingj\\Anaconda3\\lib\\site-packages\\sklearn\\linear_model\\logistic.py:432: FutureWarning: Default solver will be changed to 'lbfgs' in 0.22. Specify a solver to silence this warning.\n",
      "  FutureWarning)\n",
      "C:\\Users\\jingj\\Anaconda3\\lib\\site-packages\\sklearn\\linear_model\\logistic.py:469: FutureWarning: Default multi_class will be changed to 'auto' in 0.22. Specify the multi_class option to silence this warning.\n",
      "  \"this warning.\", FutureWarning)\n"
     ]
    },
    {
     "name": "stdout",
     "output_type": "stream",
     "text": [
      "test data accuracy: 0.746\n",
      "train data accuracy: 0.8117894736842105\n"
     ]
    }
   ],
   "source": [
    "from sklearn.linear_model import LogisticRegression\n",
    "\n",
    "LGR_clf = LogisticRegression(random_state=0)\n",
    "LGR_clf.fit(train_features, y_train)\n",
    "\n",
    "LGR_prediction_test = LGR_clf.predict(test_features)\n",
    "print('test data accuracy: {}'.format(np.mean(LGR_prediction_test == y_test)))\n",
    "\n",
    "LGR_prediction_train = LGR_clf.predict(train_features)\n",
    "print('train data accuracy: {}'.format(np.mean(LGR_prediction_train == y_train)))"
   ]
  },
  {
   "cell_type": "markdown",
   "metadata": {},
   "source": [
    "Naive Bayes Rule"
   ]
  },
  {
   "cell_type": "code",
   "execution_count": 32,
   "metadata": {},
   "outputs": [
    {
     "name": "stdout",
     "output_type": "stream",
     "text": [
      "test data accuracy: 0.68\n",
      "train data accuracy: 0.6817894736842105\n"
     ]
    }
   ],
   "source": [
    "from sklearn.naive_bayes import MultinomialNB\n",
    "NBclf = MultinomialNB()\n",
    "\n",
    "NBclf.fit(train_features, y_train)\n",
    "\n",
    "NBpredictions_test = NBclf.predict(test_features)\n",
    "\n",
    "print('test data accuracy: {}'.format(np.mean(NBpredictions_test == y_test)))\n",
    "\n",
    "NBpredictions_train = NBclf.predict(train_features)\n",
    "\n",
    "print('train data accuracy: {}'.format(np.mean(NBpredictions_train == y_train)))\n"
   ]
  },
  {
   "cell_type": "markdown",
   "metadata": {},
   "source": [
    "Random Forest"
   ]
  },
  {
   "cell_type": "code",
   "execution_count": 33,
   "metadata": {},
   "outputs": [
    {
     "name": "stdout",
     "output_type": "stream",
     "text": [
      "test data accuracy: 0.73\n",
      "train data accuracy: 0.9792631578947368\n",
      "test data accuracy: 0.726\n",
      "train data accuracy: 0.9889473684210527\n"
     ]
    }
   ],
   "source": [
    "from sklearn.ensemble import RandomForestClassifier\n",
    "\n",
    "RFclf = RandomForestClassifier(n_estimators=10)\n",
    "\n",
    "\n",
    "RFclf.fit(train_features, y_train)\n",
    "\n",
    "RFpredictions_test = RFclf.predict(test_features)\n",
    "\n",
    "print('test data accuracy: {}'.format(np.mean(RFpredictions_test == y_test)))\n",
    "\n",
    "RFpredictions_train = RFclf.predict(train_features)\n",
    "\n",
    "print('train data accuracy: {}'.format(np.mean(RFpredictions_train == y_train)))\n",
    "\n",
    "\n",
    "RFclf1 = RandomForestClassifier(n_estimators=100)\n",
    "RFclf1.fit(train_features, y_train)\n",
    "\n",
    "\n",
    "RFpredictions1_test = RFclf1.predict(test_features)\n",
    "print('test data accuracy: {}'.format(np.mean(RFpredictions1_test == y_test)))\n",
    "\n",
    "RFpredictions1_train = RFclf1.predict(train_features)\n",
    "print('train data accuracy: {}'.format(np.mean(RFpredictions1_train == y_train)))\n",
    "\n"
   ]
  },
  {
   "cell_type": "markdown",
   "metadata": {},
   "source": [
    "SVM"
   ]
  },
  {
   "cell_type": "code",
   "execution_count": 34,
   "metadata": {},
   "outputs": [
    {
     "name": "stdout",
     "output_type": "stream",
     "text": [
      "test data accuracy: 0.768\n",
      "train data accuracy: 0.8988421052631579\n"
     ]
    }
   ],
   "source": [
    "from sklearn.svm import SVC\n",
    "\n",
    "SVM_clf = SVC(kernel='linear')\n",
    "SVM_clf.fit(train_features, y_train)\n",
    "\n",
    "\n",
    "SVMpredictions_test = SVM_clf.predict(test_features)\n",
    "print('test data accuracy: {}'.format(np.mean(SVMpredictions_test == y_test)))\n",
    "      \n",
    "SVMpredictions_train = SVM_clf.predict(train_features)\n",
    "print('train data accuracy: {}'.format(np.mean(SVMpredictions_train == y_train)))\n"
   ]
  }
 ],
 "metadata": {
  "kernelspec": {
   "display_name": "Python 3",
   "language": "python",
   "name": "python3"
  },
  "language_info": {
   "codemirror_mode": {
    "name": "ipython",
    "version": 3
   },
   "file_extension": ".py",
   "mimetype": "text/x-python",
   "name": "python",
   "nbconvert_exporter": "python",
   "pygments_lexer": "ipython3",
   "version": "3.7.4"
  }
 },
 "nbformat": 4,
 "nbformat_minor": 2
}
